{
 "cells": [
  {
   "cell_type": "markdown",
   "id": "95cb21bb",
   "metadata": {},
   "source": [
    "# Use LEAD_CONV_Snowpark38_XL notebook template"
   ]
  },
  {
   "cell_type": "code",
   "execution_count": null,
   "id": "7f70010e",
   "metadata": {},
   "outputs": [],
   "source": [
    "#Snowpark lib\n",
    "from snowflake.snowpark import Session\n",
    "\n",
    "# Data Science Libs\n",
    "import numpy as np\n",
    "import pandas as pd\n",
    "\n",
    "# create_temp_table warning suppresion\n",
    "import warnings; warnings.simplefilter('ignore')\n",
    "\n",
    "#ConfigParser to read ini file\n",
    "import configparser\n",
    "\n",
    "from fosforio import snowflake\n",
    "\n",
    "from sklearn.pipeline import Pipeline\n",
    "from sklearn.model_selection import train_test_split\n",
    "from sklearn.ensemble import RandomForestClassifier\n",
    "from sklearn.pipeline import make_pipeline\n",
    "from sklearn.preprocessing import RobustScaler\n",
    "from sklearn.preprocessing import OneHotEncoder\n",
    "from sklearn.compose import ColumnTransformer"
   ]
  },
  {
   "cell_type": "markdown",
   "id": "cdd7da9c",
   "metadata": {},
   "source": [
    "# Fetching Data"
   ]
  },
  {
   "cell_type": "code",
   "execution_count": null,
   "id": "4e535644",
   "metadata": {},
   "outputs": [],
   "source": [
    "# To read a specific dataset published from a snowflake connection\n",
    "df = snowflake.get_dataframe(\"MASTER\")\n",
    "df.head()"
   ]
  },
  {
   "cell_type": "markdown",
   "id": "d90227e2",
   "metadata": {},
   "source": [
    "# Preprocessing"
   ]
  },
  {
   "cell_type": "code",
   "execution_count": null,
   "id": "d126b200",
   "metadata": {},
   "outputs": [],
   "source": [
    "df = df.dropna()"
   ]
  },
  {
   "cell_type": "code",
   "execution_count": null,
   "id": "0419c8cb",
   "metadata": {},
   "outputs": [],
   "source": [
    "df = df.drop_duplicates(subset='ID', keep=\"last\")"
   ]
  },
  {
   "cell_type": "code",
   "execution_count": null,
   "id": "33436038",
   "metadata": {},
   "outputs": [],
   "source": [
    "data = df.drop([\"ID\", \"LEAD_CREATION_DATE\", \"DEVICE_TYPE\", \"SALARY_ACCOUNT\", \"CITY\", \"DOB\", \"EMPLOYER_NAME\",\"YEAR\",\"QUARTER\",\"MONTH\"], axis=1)"
   ]
  },
  {
   "cell_type": "code",
   "execution_count": null,
   "id": "c4ce2e88",
   "metadata": {},
   "outputs": [],
   "source": [
    "data.head()"
   ]
  },
  {
   "cell_type": "code",
   "execution_count": null,
   "id": "7bbc818f",
   "metadata": {},
   "outputs": [],
   "source": [
    "cat_col = []\n",
    "num_col = []\n",
    "target = \"DISBURSED\"\n",
    "\n",
    "for k, v in dict(data.dtypes).items():\n",
    "    if k != target:\n",
    "        if v == \"O\":\n",
    "            cat_col.append(k)\n",
    "        else:\n",
    "            num_col.append(k)"
   ]
  },
  {
   "cell_type": "markdown",
   "id": "a03bc9ca",
   "metadata": {},
   "source": [
    "# Train Test Split"
   ]
  },
  {
   "cell_type": "code",
   "execution_count": null,
   "id": "d3ded7fa",
   "metadata": {},
   "outputs": [],
   "source": [
    "used_cols = [c for c in data.columns.tolist() if c not in [target]]\n",
    "X = data[used_cols]\n",
    "y = data[target]\n",
    "X_train, X_test, y_train, y_test = train_test_split(X, y, test_size=0.2, random_state=42)"
   ]
  },
  {
   "cell_type": "markdown",
   "id": "0ededfc5",
   "metadata": {},
   "source": [
    "# Building and Training Model Pipeline"
   ]
  },
  {
   "cell_type": "code",
   "execution_count": null,
   "id": "db443bd7",
   "metadata": {},
   "outputs": [],
   "source": [
    "# making pipeline\n",
    "scaler = RobustScaler()\n",
    "encoder = OneHotEncoder(handle_unknown=\"ignore\")\n",
    "# putting numeric columns to scaler and categorical to encoder\n",
    "num_transformer = make_pipeline(scaler)\n",
    "cat_transformer = make_pipeline(encoder)\n",
    "\n",
    "# getting together our scaler and encoder with preprocessor\n",
    "preprocessor = ColumnTransformer(\n",
    "      transformers=[('num', num_transformer, num_col),\n",
    "                    ('cat', cat_transformer, cat_col)])"
   ]
  },
  {
   "cell_type": "code",
   "execution_count": null,
   "id": "497e6ad7",
   "metadata": {},
   "outputs": [],
   "source": [
    "# choosing model\n",
    "model_name = RandomForestClassifier(n_estimators = 500, max_depth=8, random_state=25, max_samples=0.6)\n",
    "\n",
    "# giving all values to pipeline\n",
    "pipe = make_pipeline(preprocessor,model_name)\n",
    "pipe.fit(X_train, y_train)"
   ]
  },
  {
   "cell_type": "markdown",
   "id": "4163de29",
   "metadata": {},
   "source": [
    "# Prediction"
   ]
  },
  {
   "cell_type": "code",
   "execution_count": null,
   "id": "f0494cfa",
   "metadata": {},
   "outputs": [],
   "source": [
    "# make predictions on test set\n",
    "y_pred = pipe.predict(X_test)\n",
    "y_prob = pipe.predict_proba(X_test)"
   ]
  },
  {
   "cell_type": "markdown",
   "id": "affe46c2",
   "metadata": {},
   "source": [
    "# Model Evaluation"
   ]
  },
  {
   "cell_type": "code",
   "execution_count": null,
   "id": "a339d512",
   "metadata": {},
   "outputs": [],
   "source": [
    "# importing Libraries \n",
    "from sklearn.metrics import confusion_matrix, accuracy_score, precision_score, recall_score, f1_score, roc_curve, auc"
   ]
  },
  {
   "cell_type": "code",
   "execution_count": null,
   "id": "d0676a1e",
   "metadata": {},
   "outputs": [],
   "source": [
    "# Confusion Matrix \n",
    "cm = confusion_matrix(y_test, y_pred) \n",
    "# Accuracy \n",
    "accuracy = accuracy_score(y_test, y_pred) \n",
    "# Precision \n",
    "precision = precision_score(y_test, y_pred) \n",
    "# Recall \n",
    "recall = recall_score(y_test, y_pred) \n",
    "# F1-Score \n",
    "f1 = f1_score(y_test, y_pred) \n",
    "# ROC Curve and AUC \n",
    "fpr, tpr, thresholds = roc_curve(y_test, y_pred) \n",
    "roc_auc = auc(fpr, tpr) \n",
    "  \n",
    "print(\"Confusion Matrix:\") \n",
    "print(cm) \n",
    "print(\"Accuracy:\", round(accuracy,2)) \n",
    "print(\"Precision:\", round(precision,2)) \n",
    "print(\"Recall:\", round(recall,2)) \n",
    "print(\"F1-Score:\", round(f1,2)) \n",
    "print(\"ROC AUC:\", round(roc_auc,2)) "
   ]
  },
  {
   "cell_type": "code",
   "execution_count": null,
   "id": "c6aaadc6",
   "metadata": {},
   "outputs": [],
   "source": [
    "\n",
    "import matplotlib.pyplot as plt \n",
    "  \n",
    "# Plot ROC curve \n",
    "plt.figure() \n",
    "  \n",
    "# Plot the ROC curve with a label displaying the ROC AUC score \n",
    "plt.plot(fpr, tpr, color='darkorange', lw=2, \n",
    "         label='ROC curve (area = %0.2f)' % roc_auc) \n",
    "  \n",
    "# Plot a dashed diagonal line for reference \n",
    "plt.plot([0, 1], [0, 1], color='navy', lw=2, linestyle='--') \n",
    "  \n",
    "# Set the x and y-axis limits \n",
    "plt.xlim([0.0, 1.0]) \n",
    "plt.ylim([0.0, 1.05]) \n",
    "  \n",
    "# Label the x and y-axes \n",
    "plt.xlabel('False Positive Rate') \n",
    "plt.ylabel('True Positive Rate') \n",
    "  \n",
    "# Set the title of the plot \n",
    "plt.title('Receiver Operating Characteristic') \n",
    "  \n",
    "# Add a legend to the plot \n",
    "plt.legend(loc='lower right') \n",
    "  \n",
    "# Display the ROC curve plot \n",
    "plt.show() "
   ]
  },
  {
   "cell_type": "markdown",
   "id": "24c1d990",
   "metadata": {},
   "source": [
    "# Model Registrartion using fosforml SDK"
   ]
  },
  {
   "cell_type": "code",
   "execution_count": null,
   "id": "b80a1c14",
   "metadata": {
    "scrolled": true
   },
   "outputs": [],
   "source": [
    "# !pip install fosforml"
   ]
  },
  {
   "cell_type": "code",
   "execution_count": null,
   "id": "cd017d74",
   "metadata": {},
   "outputs": [],
   "source": [
    "from fosforml import *\n",
    "from fosforml.constants import MLModelFlavours\n",
    "import requests"
   ]
  },
  {
   "cell_type": "code",
   "execution_count": null,
   "id": "8fd31b59",
   "metadata": {},
   "outputs": [],
   "source": [
    "@scoring_func\n",
    "def score(model, request):\n",
    "    payload_dict = eval(request.json[\"payload\"])\n",
    "    data = pd.DataFrame.from_dict(payload_dict)\n",
    "    result = pipe.predict(data)\n",
    "    prediction = str(pd.DataFrame({\"prediction\":result}).to_dict())\n",
    "    probability = pipe.predict_proba(data)\n",
    "    temp_dict = {\"Prediction\": prediction, \"Probability\":probability}\n",
    "    #return prediction\n",
    "    return temp_dict"
   ]
  },
  {
   "cell_type": "code",
   "execution_count": null,
   "id": "a92e35ee",
   "metadata": {},
   "outputs": [],
   "source": [
    "payload = X_test.head(100).to_dict()\n",
    "req = requests.Request()\n",
    "req.json = {\"payload\":str(payload)}\n",
    "y = req\n",
    "yo = score(pipe, y)\n",
    "# yo"
   ]
  },
  {
   "cell_type": "code",
   "execution_count": null,
   "id": "e99343c3",
   "metadata": {},
   "outputs": [],
   "source": [
    "payload = X_test.head(1).to_dict()\n",
    "req = requests.Request()\n",
    "req.json = {\"payload\":str(payload)}\n",
    "y = req\n",
    "yo = score(pipe, y)"
   ]
  },
  {
   "cell_type": "markdown",
   "id": "a02e88bc",
   "metadata": {},
   "source": [
    "# Sample Payload"
   ]
  },
  {
   "cell_type": "code",
   "execution_count": null,
   "id": "0ce9adb4",
   "metadata": {
    "scrolled": true
   },
   "outputs": [],
   "source": [
    "req.json"
   ]
  },
  {
   "cell_type": "code",
   "execution_count": null,
   "id": "039fe60b",
   "metadata": {},
   "outputs": [],
   "source": [
    "yo"
   ]
  },
  {
   "cell_type": "code",
   "execution_count": 47,
   "id": "fa2f7f27",
   "metadata": {
    "scrolled": false
   },
   "outputs": [
    {
     "name": "stdout",
     "output_type": "stream",
     "text": [
      "Calculating build time metrics\n",
      "\n",
      "Progress: ██████████████████████████████████████████████████████████████████████ 100.0%\n"
     ]
    },
    {
     "data": {
      "application/vnd.jupyter.widget-view+json": {
       "model_id": "c82dc598721e43a2b97a439028b0e762",
       "version_major": 2,
       "version_minor": 0
      },
      "text/plain": [
       "VBox(children=(HTML(value='<style>.grad_1{background: #2468a4;} .grad_2{ color:white; background: #2468a4;}</s…"
      ]
     },
     "metadata": {},
     "output_type": "display_data"
    }
   ],
   "source": [
    "## registering the model in Fosfor.\n",
    "model_reg = register_model(pipe,\n",
    "               score, \n",
    "               name=\"Lead_Conversion_model\", \n",
    "               description=\"Lead_conversion_RandomForest_Model\",\n",
    "               flavour=MLModelFlavours.sklearn,\n",
    "               model_type=\"classification\",\n",
    "               init_script=\"\\\\n pip install fosforml \\\\n pip install fosforio[snowflake] \\\\n pip install sklearn\\\\n pip install snowflake-connector-python[pandas]\",\n",
    "               y_true=y_test,\n",
    "               y_pred=y_pred,\n",
    "               prob=y_prob,\n",
    "               features=X_train.columns,\n",
    "               input_type=\"json\", \n",
    "               explain_ai=True,\n",
    "               x_train=X_train, \n",
    "               x_test=X_test, \n",
    "               y_train=y_train,\n",
    "               y_test=y_test,\n",
    "               feature_names=X_train.columns.tolist(),\n",
    "               original_features=X_train.columns.tolist(),\n",
    "               feature_ids=X_train.columns,\n",
    "               kyd=True, kyd_score = True)"
   ]
  },
  {
   "cell_type": "code",
   "execution_count": null,
   "id": "2c6c969d",
   "metadata": {},
   "outputs": [],
   "source": []
  },
  {
   "cell_type": "markdown",
   "id": "c90a20be",
   "metadata": {},
   "source": [
    "# Push Model output to snowflake "
   ]
  },
  {
   "cell_type": "code",
   "execution_count": 52,
   "id": "fca58545",
   "metadata": {},
   "outputs": [
    {
     "name": "stdout",
     "output_type": "stream",
     "text": [
      "connection successful!\n"
     ]
    }
   ],
   "source": [
    "import os\n",
    "config = configparser.ConfigParser()\n",
    "config.read(\"credentials.ini\")\n",
    "\n",
    "connection_parameters = {\n",
    "    \"user\": f'{config[\"Snowflake\"][\"user\"]}',\n",
    "    \"password\": os.getenv('Snowflake_password'),\n",
    "    \"account\": f'{config[\"Snowflake\"][\"account\"]}',\n",
    "    \"WAREHOUSE\": f'{config[\"Snowflake\"][\"WAREHOUSE\"]}',\n",
    "    \"DATABASE\": f'{config[\"Snowflake\"][\"DATABASE\"]}',\n",
    "    \"SCHEMA\": f'{config[\"Snowflake\"][\"SCHEMA\"]}'\n",
    "}\n",
    "\n",
    "\n",
    "def snowflake_connector(conn):\n",
    "    try:\n",
    "        session = Session.builder.configs(conn).create()\n",
    "        print(\"connection successful!\")\n",
    "    except:\n",
    "        raise ValueError(\"error while connecting with db\")\n",
    "    return session\n",
    "\n",
    "session = snowflake_connector(connection_parameters)"
   ]
  },
  {
   "cell_type": "code",
   "execution_count": 58,
   "id": "c5fc5763",
   "metadata": {},
   "outputs": [
    {
     "data": {
      "text/plain": [
       "(218933, 26)"
      ]
     },
     "execution_count": 58,
     "metadata": {},
     "output_type": "execute_result"
    }
   ],
   "source": [
    "df.shape"
   ]
  },
  {
   "cell_type": "code",
   "execution_count": 53,
   "id": "257fb1e4",
   "metadata": {},
   "outputs": [],
   "source": [
    "df[\"PREDICTION\"] = pipe.predict(df)"
   ]
  },
  {
   "cell_type": "code",
   "execution_count": 55,
   "id": "0299b03a",
   "metadata": {
    "scrolled": true
   },
   "outputs": [
    {
     "data": {
      "text/plain": [
       "DISBURSED\n",
       "0.0    139897\n",
       "1.0     79036\n",
       "Name: count, dtype: int64"
      ]
     },
     "execution_count": 55,
     "metadata": {},
     "output_type": "execute_result"
    }
   ],
   "source": [
    "df['DISBURSED'].value_counts()"
   ]
  },
  {
   "cell_type": "code",
   "execution_count": 56,
   "id": "33c98057",
   "metadata": {},
   "outputs": [
    {
     "data": {
      "text/plain": [
       "PREDICTION\n",
       "0.0    151196\n",
       "1.0     67737\n",
       "Name: count, dtype: int64"
      ]
     },
     "execution_count": 56,
     "metadata": {},
     "output_type": "execute_result"
    }
   ],
   "source": [
    "df['PREDICTION'].value_counts()"
   ]
  },
  {
   "cell_type": "code",
   "execution_count": null,
   "id": "42620205",
   "metadata": {},
   "outputs": [],
   "source": [
    "df_snowflake=session.createDataFrame(\n",
    "        df.values.tolist(),\n",
    "        schema=df.columns.tolist())\n",
    "\n",
    "df_snowflake.write.mode(\"overwrite\").save_as_table(\"FDC_BANKING_FS.BFS_LEAD_CONV_SCHEMA.MASTER_PREDICTED\")"
   ]
  }
 ],
 "metadata": {
  "kernelspec": {
   "display_name": "Python 3",
   "language": "python",
   "name": "python3"
  },
  "language_info": {
   "codemirror_mode": {
    "name": "ipython",
    "version": 3
   },
   "file_extension": ".py",
   "mimetype": "text/x-python",
   "name": "python",
   "nbconvert_exporter": "python",
   "pygments_lexer": "ipython3",
   "version": "3.8.18"
  }
 },
 "nbformat": 4,
 "nbformat_minor": 5
}
