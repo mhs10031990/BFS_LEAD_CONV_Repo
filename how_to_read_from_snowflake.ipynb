{
 "cells": [
  {
   "cell_type": "markdown",
   "id": "632503b3",
   "metadata": {},
   "source": [
    "# Use Credit Risk Analytics Notebook template"
   ]
  },
  {
   "cell_type": "code",
   "execution_count": 1,
   "id": "4871a0ed",
   "metadata": {},
   "outputs": [],
   "source": [
    "#Snowpark lib\n",
    "from snowflake.snowpark import Session\n",
    "\n",
    "# Data Science Libs\n",
    "import numpy as np\n",
    "import pandas as pd\n",
    "\n",
    "# create_temp_table warning suppresion\n",
    "import warnings; warnings.simplefilter('ignore')\n",
    "\n",
    "#ConfigParser to read ini file\n",
    "import configparser"
   ]
  },
  {
   "cell_type": "markdown",
   "id": "c59822ac",
   "metadata": {},
   "source": [
    "# How to use Notebook Variables declared in customized template"
   ]
  },
  {
   "cell_type": "code",
   "execution_count": 2,
   "id": "488e8de0",
   "metadata": {},
   "outputs": [
    {
     "name": "stdout",
     "output_type": "stream",
     "text": [
      "PrPr\n"
     ]
    }
   ],
   "source": [
    "import os\n",
    "print (os.getenv('notebook_environment'))"
   ]
  },
  {
   "cell_type": "code",
   "execution_count": 3,
   "id": "b518662d",
   "metadata": {
    "scrolled": true
   },
   "outputs": [
    {
     "name": "stdout",
     "output_type": "stream",
     "text": [
      "LEAD_CONV_Snowpark38_XL\n"
     ]
    }
   ],
   "source": [
    "print (os.getenv('notebook_template'))"
   ]
  },
  {
   "cell_type": "markdown",
   "id": "70ec341a",
   "metadata": {},
   "source": [
    "# How to use Project Parameters declared under Notebooks section"
   ]
  },
  {
   "cell_type": "code",
   "execution_count": 4,
   "id": "5e3246d4",
   "metadata": {},
   "outputs": [
    {
     "name": "stdout",
     "output_type": "stream",
     "text": [
      "mhs10031990\n"
     ]
    }
   ],
   "source": [
    "print (os.getenv('github_id'))"
   ]
  },
  {
   "cell_type": "markdown",
   "id": "b1aaba03",
   "metadata": {},
   "source": [
    "# Different ways to achieve Snowflake Connection"
   ]
  },
  {
   "cell_type": "markdown",
   "id": "6c5f49da",
   "metadata": {},
   "source": [
    "## 1. Code to establish connection using Config Parser and .ini file"
   ]
  },
  {
   "cell_type": "code",
   "execution_count": 8,
   "id": "8a5fa270",
   "metadata": {},
   "outputs": [
    {
     "data": {
      "text/plain": [
       "['/notebooks/notebooks/credentials.ini']"
      ]
     },
     "execution_count": 8,
     "metadata": {},
     "output_type": "execute_result"
    }
   ],
   "source": [
    "config = configparser.ConfigParser()\n",
    "config.read(\"/notebooks/notebooks/credentials.ini\")"
   ]
  },
  {
   "cell_type": "code",
   "execution_count": 9,
   "id": "d933cdd5",
   "metadata": {},
   "outputs": [],
   "source": [
    "connection_parameters = {\n",
    "    \"user\": f'{config[\"Snowflake\"][\"user\"]}',\n",
    "    \"password\": os.getenv('Snowflake_password'),\n",
    "    \"account\": f'{config[\"Snowflake\"][\"account\"]}',\n",
    "    \"WAREHOUSE\": f'{config[\"Snowflake\"][\"WAREHOUSE\"]}',\n",
    "    \"DATABASE\": f'{config[\"Snowflake\"][\"DATABASE\"]}',\n",
    "    \"SCHEMA\": f'{config[\"Snowflake\"][\"SCHEMA\"]}'\n",
    "}"
   ]
  },
  {
   "cell_type": "code",
   "execution_count": 10,
   "id": "18e767bd",
   "metadata": {},
   "outputs": [
    {
     "name": "stdout",
     "output_type": "stream",
     "text": [
      "connection successful!\n"
     ]
    }
   ],
   "source": [
    "def snowflake_connector(conn):\n",
    "    try:\n",
    "        session = Session.builder.configs(conn).create()\n",
    "        print(\"connection successful!\")\n",
    "    except:\n",
    "        raise ValueError(\"error while connecting with db\")\n",
    "    return session\n",
    "\n",
    "session = snowflake_connector(connection_parameters)"
   ]
  },
  {
   "cell_type": "code",
   "execution_count": 11,
   "id": "c19cce94",
   "metadata": {},
   "outputs": [],
   "source": [
    "df = session.table(\"MASTER\")"
   ]
  },
  {
   "cell_type": "code",
   "execution_count": 12,
   "id": "3af9c5da",
   "metadata": {},
   "outputs": [],
   "source": [
    "df = df.to_pandas()"
   ]
  },
  {
   "cell_type": "code",
   "execution_count": 13,
   "id": "e8617158",
   "metadata": {
    "scrolled": true
   },
   "outputs": [
    {
     "data": {
      "text/html": [
       "<div>\n",
       "<style scoped>\n",
       "    .dataframe tbody tr th:only-of-type {\n",
       "        vertical-align: middle;\n",
       "    }\n",
       "\n",
       "    .dataframe tbody tr th {\n",
       "        vertical-align: top;\n",
       "    }\n",
       "\n",
       "    .dataframe thead th {\n",
       "        text-align: right;\n",
       "    }\n",
       "</style>\n",
       "<table border=\"1\" class=\"dataframe\">\n",
       "  <thead>\n",
       "    <tr style=\"text-align: right;\">\n",
       "      <th></th>\n",
       "      <th>ID</th>\n",
       "      <th>GENDER</th>\n",
       "      <th>DOB</th>\n",
       "      <th>CITY</th>\n",
       "      <th>STATE</th>\n",
       "      <th>AGE</th>\n",
       "      <th>MONTHLY_INCOME</th>\n",
       "      <th>EMPLOYER_NAME</th>\n",
       "      <th>SALARY_ACCOUNT</th>\n",
       "      <th>LOAN_AMOUNT_APPLIED</th>\n",
       "      <th>...</th>\n",
       "      <th>QUARTER</th>\n",
       "      <th>MOBILE_VERIFIED</th>\n",
       "      <th>FILLED_FORM</th>\n",
       "      <th>DEVICE_TYPE</th>\n",
       "      <th>VAR2</th>\n",
       "      <th>SOURCE</th>\n",
       "      <th>VAR4</th>\n",
       "      <th>VAR5</th>\n",
       "      <th>VAR1</th>\n",
       "      <th>DISBURSED</th>\n",
       "    </tr>\n",
       "  </thead>\n",
       "  <tbody>\n",
       "    <tr>\n",
       "      <th>0</th>\n",
       "      <td>ID000977Z13</td>\n",
       "      <td>Male</td>\n",
       "      <td>10/1/1988</td>\n",
       "      <td>New York</td>\n",
       "      <td>New York</td>\n",
       "      <td>36</td>\n",
       "      <td>1313.242865</td>\n",
       "      <td>Hcl Global Systems</td>\n",
       "      <td>Bank of Hope</td>\n",
       "      <td>900000.0</td>\n",
       "      <td>...</td>\n",
       "      <td>4</td>\n",
       "      <td>Y</td>\n",
       "      <td>Y</td>\n",
       "      <td>Mobile</td>\n",
       "      <td>E</td>\n",
       "      <td>S127</td>\n",
       "      <td>7.0</td>\n",
       "      <td>14</td>\n",
       "      <td>HBXX</td>\n",
       "      <td>1.0</td>\n",
       "    </tr>\n",
       "    <tr>\n",
       "      <th>1</th>\n",
       "      <td>ID000626U25</td>\n",
       "      <td>Male</td>\n",
       "      <td>4/1/1992</td>\n",
       "      <td>New York</td>\n",
       "      <td>New York</td>\n",
       "      <td>32</td>\n",
       "      <td>1270.880192</td>\n",
       "      <td>Synechron</td>\n",
       "      <td>Bank of Marin</td>\n",
       "      <td>900000.0</td>\n",
       "      <td>...</td>\n",
       "      <td>2</td>\n",
       "      <td>Y</td>\n",
       "      <td>N</td>\n",
       "      <td>Web-browser</td>\n",
       "      <td>G</td>\n",
       "      <td>S151</td>\n",
       "      <td>5.0</td>\n",
       "      <td>10</td>\n",
       "      <td>HBXB</td>\n",
       "      <td>1.0</td>\n",
       "    </tr>\n",
       "    <tr>\n",
       "      <th>2</th>\n",
       "      <td>ID019473Z30</td>\n",
       "      <td>Male</td>\n",
       "      <td>02/1/1996</td>\n",
       "      <td>New York</td>\n",
       "      <td>New York</td>\n",
       "      <td>28</td>\n",
       "      <td>500.000000</td>\n",
       "      <td>Syntel</td>\n",
       "      <td>Exchange Bank</td>\n",
       "      <td>10000.0</td>\n",
       "      <td>...</td>\n",
       "      <td>2</td>\n",
       "      <td>Y</td>\n",
       "      <td>N</td>\n",
       "      <td>Web-browser</td>\n",
       "      <td>B</td>\n",
       "      <td>S144</td>\n",
       "      <td>4.0</td>\n",
       "      <td>11</td>\n",
       "      <td>HBXC</td>\n",
       "      <td>0.0</td>\n",
       "    </tr>\n",
       "    <tr>\n",
       "      <th>3</th>\n",
       "      <td>ID000062G50</td>\n",
       "      <td>Male</td>\n",
       "      <td>3/6/1989</td>\n",
       "      <td>New York</td>\n",
       "      <td>New York</td>\n",
       "      <td>35</td>\n",
       "      <td>1497.000000</td>\n",
       "      <td>Uber Technologies</td>\n",
       "      <td>Bank of Marin</td>\n",
       "      <td>900000.0</td>\n",
       "      <td>...</td>\n",
       "      <td>1</td>\n",
       "      <td>Y</td>\n",
       "      <td>Y</td>\n",
       "      <td>Web-browser</td>\n",
       "      <td>B</td>\n",
       "      <td>S133</td>\n",
       "      <td>4.0</td>\n",
       "      <td>0</td>\n",
       "      <td>HAXB</td>\n",
       "      <td>1.0</td>\n",
       "    </tr>\n",
       "    <tr>\n",
       "      <th>4</th>\n",
       "      <td>ID000935I02</td>\n",
       "      <td>Female</td>\n",
       "      <td>30/8/1996</td>\n",
       "      <td>New York</td>\n",
       "      <td>New York</td>\n",
       "      <td>28</td>\n",
       "      <td>903.000000</td>\n",
       "      <td>Hcl America</td>\n",
       "      <td>CIT Bank</td>\n",
       "      <td>700000.0</td>\n",
       "      <td>...</td>\n",
       "      <td>4</td>\n",
       "      <td>N</td>\n",
       "      <td>Y</td>\n",
       "      <td>Web-browser</td>\n",
       "      <td>B</td>\n",
       "      <td>S160</td>\n",
       "      <td>1.0</td>\n",
       "      <td>3</td>\n",
       "      <td>HBXX</td>\n",
       "      <td>0.0</td>\n",
       "    </tr>\n",
       "  </tbody>\n",
       "</table>\n",
       "<p>5 rows × 25 columns</p>\n",
       "</div>"
      ],
      "text/plain": [
       "            ID  GENDER        DOB      CITY     STATE  AGE  MONTHLY_INCOME  \\\n",
       "0  ID000977Z13    Male  10/1/1988  New York  New York   36     1313.242865   \n",
       "1  ID000626U25    Male   4/1/1992  New York  New York   32     1270.880192   \n",
       "2  ID019473Z30    Male  02/1/1996  New York  New York   28      500.000000   \n",
       "3  ID000062G50    Male   3/6/1989  New York  New York   35     1497.000000   \n",
       "4  ID000935I02  Female  30/8/1996  New York  New York   28      903.000000   \n",
       "\n",
       "        EMPLOYER_NAME SALARY_ACCOUNT  LOAN_AMOUNT_APPLIED  ...  QUARTER  \\\n",
       "0  Hcl Global Systems   Bank of Hope             900000.0  ...        4   \n",
       "1           Synechron  Bank of Marin             900000.0  ...        2   \n",
       "2              Syntel  Exchange Bank              10000.0  ...        2   \n",
       "3   Uber Technologies  Bank of Marin             900000.0  ...        1   \n",
       "4         Hcl America       CIT Bank             700000.0  ...        4   \n",
       "\n",
       "   MOBILE_VERIFIED FILLED_FORM  DEVICE_TYPE  VAR2  SOURCE VAR4 VAR5  VAR1  \\\n",
       "0                Y           Y       Mobile     E    S127  7.0   14  HBXX   \n",
       "1                Y           N  Web-browser     G    S151  5.0   10  HBXB   \n",
       "2                Y           N  Web-browser     B    S144  4.0   11  HBXC   \n",
       "3                Y           Y  Web-browser     B    S133  4.0    0  HAXB   \n",
       "4                N           Y  Web-browser     B    S160  1.0    3  HBXX   \n",
       "\n",
       "  DISBURSED  \n",
       "0       1.0  \n",
       "1       1.0  \n",
       "2       0.0  \n",
       "3       1.0  \n",
       "4       0.0  \n",
       "\n",
       "[5 rows x 25 columns]"
      ]
     },
     "execution_count": 13,
     "metadata": {},
     "output_type": "execute_result"
    }
   ],
   "source": [
    "df.head()"
   ]
  },
  {
   "cell_type": "code",
   "execution_count": 14,
   "id": "4add7f39",
   "metadata": {},
   "outputs": [
    {
     "data": {
      "text/plain": [
       "(368494, 25)"
      ]
     },
     "execution_count": 14,
     "metadata": {},
     "output_type": "execute_result"
    }
   ],
   "source": [
    "df.shape"
   ]
  },
  {
   "cell_type": "markdown",
   "id": "b7b890d6",
   "metadata": {},
   "source": [
    "# 2 Using Inbuilt FosforIO package"
   ]
  },
  {
   "cell_type": "code",
   "execution_count": 15,
   "id": "6bdd46a1",
   "metadata": {},
   "outputs": [
    {
     "name": "stdout",
     "output_type": "stream",
     "text": [
      "Connection manager service url initialised to http://fdc-project-manager:80/project-manager\n",
      "If you need to update its value then update the variable CONNECTION_MANAGER_BASE_URL in os env.\n"
     ]
    }
   ],
   "source": [
    "from fosforio import snowflake"
   ]
  },
  {
   "cell_type": "code",
   "execution_count": null,
   "id": "4e4447aa",
   "metadata": {},
   "outputs": [],
   "source": [
    "# To get snowflake connection object with a default snowflake connection created by the user, if available.\n",
    "snowflake.get_connection()\n",
    "\n",
    "# To get snowflake connection object with a specific connection name\n",
    "#snowflake.get_connection(connection_name=\"BFS_LEAD_CONV_CXN\")"
   ]
  },
  {
   "cell_type": "code",
   "execution_count": null,
   "id": "1c44083b",
   "metadata": {},
   "outputs": [],
   "source": [
    "# To read a specific dataset published from a snowflake connection\n",
    "df = snowflake.get_dataframe(\"MASTER\")"
   ]
  },
  {
   "cell_type": "code",
   "execution_count": null,
   "id": "3a276ff8",
   "metadata": {},
   "outputs": [],
   "source": [
    "df.head()"
   ]
  },
  {
   "cell_type": "markdown",
   "id": "0c921177",
   "metadata": {},
   "source": [
    "# 3 Using Snowflake Snowpark"
   ]
  },
  {
   "cell_type": "code",
   "execution_count": null,
   "id": "0d2beeeb",
   "metadata": {},
   "outputs": [],
   "source": [
    "#Import all snowflake connection details from Template or Project variables.\n",
    "\n",
    "db_user = os.getenv('Snowflake_user')\n",
    "db_password =  os.getenv('Snowflake_password')\n",
    "db_account = os.getenv('Snowflake_Account')\n",
    "db_database =  os.getenv('Snowflake_Database')\n",
    "db_role = os.getenv('Snowflake_user')\n",
    "db_warehouse = os.getenv('Snowflake_Warehouse')\n",
    "db_schema = os.getenv('Snowflake_Schema')"
   ]
  },
  {
   "cell_type": "code",
   "execution_count": null,
   "id": "7514813d",
   "metadata": {},
   "outputs": [],
   "source": [
    "from snowflake.snowpark.session import Session\n",
    "connection_params = {\n",
    "    'user': db_user,\n",
    "    'password': db_password,\n",
    "    'account': db_account,\n",
    "    'warehouse': db_warehouse,\n",
    "    'database': db_database,\n",
    "    'schema': db_schema,\n",
    "    'role': db_role\n",
    "}\n",
    "session = Session.builder.configs(connection_params).create()"
   ]
  },
  {
   "cell_type": "code",
   "execution_count": null,
   "id": "d3d71a2a",
   "metadata": {},
   "outputs": [],
   "source": [
    "session.sql('use warehouse FOSFOR_SOLUTIONS_WH;').collect()\n",
    "session.sql('use database FDC_Banking_FS;').collect()\n",
    "session.sql('use schema FDC_Banking_FS.BFS_LEAD_CONV_SCHEMA;').collect()\n",
    "\n",
    "df_customer = session.table('FDC_Banking_FS.BFS_LEAD_CONV_SCHEMA.MASTER').to_pandas()"
   ]
  },
  {
   "cell_type": "code",
   "execution_count": null,
   "id": "732702db",
   "metadata": {},
   "outputs": [],
   "source": [
    "df_customer.head()"
   ]
  }
 ],
 "metadata": {
  "kernelspec": {
   "display_name": "Python 3",
   "language": "python",
   "name": "python3"
  },
  "language_info": {
   "codemirror_mode": {
    "name": "ipython",
    "version": 3
   },
   "file_extension": ".py",
   "mimetype": "text/x-python",
   "name": "python",
   "nbconvert_exporter": "python",
   "pygments_lexer": "ipython3",
   "version": "3.8.18"
  }
 },
 "nbformat": 4,
 "nbformat_minor": 5
}
