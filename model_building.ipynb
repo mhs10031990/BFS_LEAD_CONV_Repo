{
 "cells": [
  {
   "cell_type": "code",
   "execution_count": 2,
   "id": "b80a1c14",
   "metadata": {
    "scrolled": true
   },
   "outputs": [],
   "source": [
    "# !pip install fosforml"
   ]
  },
  {
   "cell_type": "markdown",
   "id": "95cb21bb",
   "metadata": {},
   "source": [
    "# Importing Libraries"
   ]
  },
  {
   "cell_type": "code",
   "execution_count": 1,
   "id": "7f70010e",
   "metadata": {},
   "outputs": [
    {
     "name": "stdout",
     "output_type": "stream",
     "text": [
      "Connection manager service url initialised to http://fdc-project-manager:80/project-manager\n",
      "If you need to update its value then update the variable CONNECTION_MANAGER_BASE_URL in os env.\n"
     ]
    }
   ],
   "source": [
    "#Snowpark lib\n",
    "from snowflake.snowpark import Session\n",
    "\n",
    "# Data Science Libs\n",
    "import numpy as np\n",
    "import pandas as pd\n",
    "\n",
    "# create_temp_table warning suppresion\n",
    "import warnings; warnings.simplefilter('ignore')\n",
    "\n",
    "#ConfigParser to read ini file\n",
    "import configparser\n",
    "\n",
    "from fosforio import snowflake\n",
    "\n",
    "from sklearn.pipeline import Pipeline\n",
    "from sklearn.model_selection import train_test_split\n",
    "from sklearn.ensemble import RandomForestClassifier\n",
    "from sklearn.pipeline import make_pipeline\n",
    "from sklearn.preprocessing import RobustScaler\n",
    "from sklearn.preprocessing import OneHotEncoder\n",
    "from sklearn.compose import ColumnTransformer"
   ]
  },
  {
   "cell_type": "markdown",
   "id": "cdd7da9c",
   "metadata": {},
   "source": [
    "# Fetching Data"
   ]
  },
  {
   "cell_type": "code",
   "execution_count": 2,
   "id": "4e535644",
   "metadata": {},
   "outputs": [
    {
     "data": {
      "text/html": [
       "<div>\n",
       "<style scoped>\n",
       "    .dataframe tbody tr th:only-of-type {\n",
       "        vertical-align: middle;\n",
       "    }\n",
       "\n",
       "    .dataframe tbody tr th {\n",
       "        vertical-align: top;\n",
       "    }\n",
       "\n",
       "    .dataframe thead th {\n",
       "        text-align: right;\n",
       "    }\n",
       "</style>\n",
       "<table border=\"1\" class=\"dataframe\">\n",
       "  <thead>\n",
       "    <tr style=\"text-align: right;\">\n",
       "      <th></th>\n",
       "      <th>ID</th>\n",
       "      <th>GENDER</th>\n",
       "      <th>DOB</th>\n",
       "      <th>CITY</th>\n",
       "      <th>STATE</th>\n",
       "      <th>AGE</th>\n",
       "      <th>MONTHLY_INCOME</th>\n",
       "      <th>EMPLOYER_NAME</th>\n",
       "      <th>SALARY_ACCOUNT</th>\n",
       "      <th>LOAN_AMOUNT_APPLIED</th>\n",
       "      <th>...</th>\n",
       "      <th>QUARTER</th>\n",
       "      <th>MOBILE_VERIFIED</th>\n",
       "      <th>FILLED_FORM</th>\n",
       "      <th>DEVICE_TYPE</th>\n",
       "      <th>VAR2</th>\n",
       "      <th>SOURCE</th>\n",
       "      <th>VAR4</th>\n",
       "      <th>VAR5</th>\n",
       "      <th>VAR1</th>\n",
       "      <th>DISBURSED</th>\n",
       "    </tr>\n",
       "  </thead>\n",
       "  <tbody>\n",
       "    <tr>\n",
       "      <th>0</th>\n",
       "      <td>ID000977Z13</td>\n",
       "      <td>Male</td>\n",
       "      <td>10/1/1988</td>\n",
       "      <td>New York</td>\n",
       "      <td>New York</td>\n",
       "      <td>36</td>\n",
       "      <td>1313.242865</td>\n",
       "      <td>Hcl Global Systems</td>\n",
       "      <td>Bank of Hope</td>\n",
       "      <td>900000.0</td>\n",
       "      <td>...</td>\n",
       "      <td>4</td>\n",
       "      <td>Y</td>\n",
       "      <td>Y</td>\n",
       "      <td>Mobile</td>\n",
       "      <td>E</td>\n",
       "      <td>S127</td>\n",
       "      <td>7.0</td>\n",
       "      <td>14</td>\n",
       "      <td>HBXX</td>\n",
       "      <td>1.0</td>\n",
       "    </tr>\n",
       "    <tr>\n",
       "      <th>1</th>\n",
       "      <td>ID000626U25</td>\n",
       "      <td>Male</td>\n",
       "      <td>4/1/1992</td>\n",
       "      <td>New York</td>\n",
       "      <td>New York</td>\n",
       "      <td>32</td>\n",
       "      <td>1270.880192</td>\n",
       "      <td>Synechron</td>\n",
       "      <td>Bank of Marin</td>\n",
       "      <td>900000.0</td>\n",
       "      <td>...</td>\n",
       "      <td>2</td>\n",
       "      <td>Y</td>\n",
       "      <td>N</td>\n",
       "      <td>Web-browser</td>\n",
       "      <td>G</td>\n",
       "      <td>S151</td>\n",
       "      <td>5.0</td>\n",
       "      <td>10</td>\n",
       "      <td>HBXB</td>\n",
       "      <td>1.0</td>\n",
       "    </tr>\n",
       "    <tr>\n",
       "      <th>2</th>\n",
       "      <td>ID019473Z30</td>\n",
       "      <td>Male</td>\n",
       "      <td>02/1/1996</td>\n",
       "      <td>New York</td>\n",
       "      <td>New York</td>\n",
       "      <td>28</td>\n",
       "      <td>500.000000</td>\n",
       "      <td>Syntel</td>\n",
       "      <td>Exchange Bank</td>\n",
       "      <td>10000.0</td>\n",
       "      <td>...</td>\n",
       "      <td>2</td>\n",
       "      <td>Y</td>\n",
       "      <td>N</td>\n",
       "      <td>Web-browser</td>\n",
       "      <td>B</td>\n",
       "      <td>S144</td>\n",
       "      <td>4.0</td>\n",
       "      <td>11</td>\n",
       "      <td>HBXC</td>\n",
       "      <td>0.0</td>\n",
       "    </tr>\n",
       "    <tr>\n",
       "      <th>3</th>\n",
       "      <td>ID000062G50</td>\n",
       "      <td>Male</td>\n",
       "      <td>3/6/1989</td>\n",
       "      <td>New York</td>\n",
       "      <td>New York</td>\n",
       "      <td>35</td>\n",
       "      <td>1497.000000</td>\n",
       "      <td>Uber Technologies</td>\n",
       "      <td>Bank of Marin</td>\n",
       "      <td>900000.0</td>\n",
       "      <td>...</td>\n",
       "      <td>1</td>\n",
       "      <td>Y</td>\n",
       "      <td>Y</td>\n",
       "      <td>Web-browser</td>\n",
       "      <td>B</td>\n",
       "      <td>S133</td>\n",
       "      <td>4.0</td>\n",
       "      <td>0</td>\n",
       "      <td>HAXB</td>\n",
       "      <td>1.0</td>\n",
       "    </tr>\n",
       "    <tr>\n",
       "      <th>4</th>\n",
       "      <td>ID000935I02</td>\n",
       "      <td>Female</td>\n",
       "      <td>30/8/1996</td>\n",
       "      <td>New York</td>\n",
       "      <td>New York</td>\n",
       "      <td>28</td>\n",
       "      <td>903.000000</td>\n",
       "      <td>Hcl America</td>\n",
       "      <td>CIT Bank</td>\n",
       "      <td>700000.0</td>\n",
       "      <td>...</td>\n",
       "      <td>4</td>\n",
       "      <td>N</td>\n",
       "      <td>Y</td>\n",
       "      <td>Web-browser</td>\n",
       "      <td>B</td>\n",
       "      <td>S160</td>\n",
       "      <td>1.0</td>\n",
       "      <td>3</td>\n",
       "      <td>HBXX</td>\n",
       "      <td>0.0</td>\n",
       "    </tr>\n",
       "  </tbody>\n",
       "</table>\n",
       "<p>5 rows × 25 columns</p>\n",
       "</div>"
      ],
      "text/plain": [
       "            ID  GENDER        DOB      CITY     STATE  AGE  MONTHLY_INCOME  \\\n",
       "0  ID000977Z13    Male  10/1/1988  New York  New York   36     1313.242865   \n",
       "1  ID000626U25    Male   4/1/1992  New York  New York   32     1270.880192   \n",
       "2  ID019473Z30    Male  02/1/1996  New York  New York   28      500.000000   \n",
       "3  ID000062G50    Male   3/6/1989  New York  New York   35     1497.000000   \n",
       "4  ID000935I02  Female  30/8/1996  New York  New York   28      903.000000   \n",
       "\n",
       "        EMPLOYER_NAME SALARY_ACCOUNT  LOAN_AMOUNT_APPLIED  ...  QUARTER  \\\n",
       "0  Hcl Global Systems   Bank of Hope             900000.0  ...        4   \n",
       "1           Synechron  Bank of Marin             900000.0  ...        2   \n",
       "2              Syntel  Exchange Bank              10000.0  ...        2   \n",
       "3   Uber Technologies  Bank of Marin             900000.0  ...        1   \n",
       "4         Hcl America       CIT Bank             700000.0  ...        4   \n",
       "\n",
       "   MOBILE_VERIFIED FILLED_FORM  DEVICE_TYPE  VAR2  SOURCE VAR4 VAR5  VAR1  \\\n",
       "0                Y           Y       Mobile     E    S127  7.0   14  HBXX   \n",
       "1                Y           N  Web-browser     G    S151  5.0   10  HBXB   \n",
       "2                Y           N  Web-browser     B    S144  4.0   11  HBXC   \n",
       "3                Y           Y  Web-browser     B    S133  4.0    0  HAXB   \n",
       "4                N           Y  Web-browser     B    S160  1.0    3  HBXX   \n",
       "\n",
       "  DISBURSED  \n",
       "0       1.0  \n",
       "1       1.0  \n",
       "2       0.0  \n",
       "3       1.0  \n",
       "4       0.0  \n",
       "\n",
       "[5 rows x 25 columns]"
      ]
     },
     "execution_count": 2,
     "metadata": {},
     "output_type": "execute_result"
    }
   ],
   "source": [
    "# To read a specific dataset published from a snowflake connection\n",
    "df = snowflake.get_dataframe(\"MASTER\")\n",
    "df.head()"
   ]
  },
  {
   "cell_type": "code",
   "execution_count": 3,
   "id": "716e21a7",
   "metadata": {},
   "outputs": [],
   "source": [
    "df = df.dropna()"
   ]
  },
  {
   "cell_type": "markdown",
   "id": "d90227e2",
   "metadata": {},
   "source": [
    "# Preprocessing"
   ]
  },
  {
   "cell_type": "code",
   "execution_count": 4,
   "id": "33436038",
   "metadata": {},
   "outputs": [],
   "source": [
    "temp_data = df[[\"ID\", \"LEAD_CREATION_DATE\", \"DEVICE_TYPE\", \"SALARY_ACCOUNT\", \"CITY\", \"DOB\", \"EMPLOYER_NAME\",\"YEAR\",\"QUARTER\",\"MONTH\"]]\n",
    "data = df.drop([\"ID\", \"LEAD_CREATION_DATE\", \"DEVICE_TYPE\", \"SALARY_ACCOUNT\", \"CITY\", \"DOB\", \"EMPLOYER_NAME\",\"YEAR\",\"QUARTER\",\"MONTH\"], axis=1)"
   ]
  },
  {
   "cell_type": "code",
   "execution_count": 5,
   "id": "c4ce2e88",
   "metadata": {},
   "outputs": [
    {
     "data": {
      "text/html": [
       "<div>\n",
       "<style scoped>\n",
       "    .dataframe tbody tr th:only-of-type {\n",
       "        vertical-align: middle;\n",
       "    }\n",
       "\n",
       "    .dataframe tbody tr th {\n",
       "        vertical-align: top;\n",
       "    }\n",
       "\n",
       "    .dataframe thead th {\n",
       "        text-align: right;\n",
       "    }\n",
       "</style>\n",
       "<table border=\"1\" class=\"dataframe\">\n",
       "  <thead>\n",
       "    <tr style=\"text-align: right;\">\n",
       "      <th></th>\n",
       "      <th>GENDER</th>\n",
       "      <th>STATE</th>\n",
       "      <th>AGE</th>\n",
       "      <th>MONTHLY_INCOME</th>\n",
       "      <th>LOAN_AMOUNT_APPLIED</th>\n",
       "      <th>LOAN_TENURE_APPLIED</th>\n",
       "      <th>EXISTING_EMI</th>\n",
       "      <th>MOBILE_VERIFIED</th>\n",
       "      <th>FILLED_FORM</th>\n",
       "      <th>VAR2</th>\n",
       "      <th>SOURCE</th>\n",
       "      <th>VAR4</th>\n",
       "      <th>VAR5</th>\n",
       "      <th>VAR1</th>\n",
       "      <th>DISBURSED</th>\n",
       "    </tr>\n",
       "  </thead>\n",
       "  <tbody>\n",
       "    <tr>\n",
       "      <th>0</th>\n",
       "      <td>Male</td>\n",
       "      <td>New York</td>\n",
       "      <td>36</td>\n",
       "      <td>1313.242865</td>\n",
       "      <td>900000.0</td>\n",
       "      <td>3.0</td>\n",
       "      <td>139.0</td>\n",
       "      <td>Y</td>\n",
       "      <td>Y</td>\n",
       "      <td>E</td>\n",
       "      <td>S127</td>\n",
       "      <td>7.0</td>\n",
       "      <td>14</td>\n",
       "      <td>HBXX</td>\n",
       "      <td>1.0</td>\n",
       "    </tr>\n",
       "    <tr>\n",
       "      <th>1</th>\n",
       "      <td>Male</td>\n",
       "      <td>New York</td>\n",
       "      <td>32</td>\n",
       "      <td>1270.880192</td>\n",
       "      <td>900000.0</td>\n",
       "      <td>3.0</td>\n",
       "      <td>0.0</td>\n",
       "      <td>Y</td>\n",
       "      <td>N</td>\n",
       "      <td>G</td>\n",
       "      <td>S151</td>\n",
       "      <td>5.0</td>\n",
       "      <td>10</td>\n",
       "      <td>HBXB</td>\n",
       "      <td>1.0</td>\n",
       "    </tr>\n",
       "    <tr>\n",
       "      <th>2</th>\n",
       "      <td>Male</td>\n",
       "      <td>New York</td>\n",
       "      <td>28</td>\n",
       "      <td>500.000000</td>\n",
       "      <td>10000.0</td>\n",
       "      <td>0.0</td>\n",
       "      <td>100.0</td>\n",
       "      <td>Y</td>\n",
       "      <td>N</td>\n",
       "      <td>B</td>\n",
       "      <td>S144</td>\n",
       "      <td>4.0</td>\n",
       "      <td>11</td>\n",
       "      <td>HBXC</td>\n",
       "      <td>0.0</td>\n",
       "    </tr>\n",
       "    <tr>\n",
       "      <th>3</th>\n",
       "      <td>Male</td>\n",
       "      <td>New York</td>\n",
       "      <td>35</td>\n",
       "      <td>1497.000000</td>\n",
       "      <td>900000.0</td>\n",
       "      <td>3.0</td>\n",
       "      <td>140.0</td>\n",
       "      <td>Y</td>\n",
       "      <td>Y</td>\n",
       "      <td>B</td>\n",
       "      <td>S133</td>\n",
       "      <td>4.0</td>\n",
       "      <td>0</td>\n",
       "      <td>HAXB</td>\n",
       "      <td>1.0</td>\n",
       "    </tr>\n",
       "    <tr>\n",
       "      <th>4</th>\n",
       "      <td>Female</td>\n",
       "      <td>New York</td>\n",
       "      <td>28</td>\n",
       "      <td>903.000000</td>\n",
       "      <td>700000.0</td>\n",
       "      <td>3.0</td>\n",
       "      <td>0.0</td>\n",
       "      <td>N</td>\n",
       "      <td>Y</td>\n",
       "      <td>B</td>\n",
       "      <td>S160</td>\n",
       "      <td>1.0</td>\n",
       "      <td>3</td>\n",
       "      <td>HBXX</td>\n",
       "      <td>0.0</td>\n",
       "    </tr>\n",
       "  </tbody>\n",
       "</table>\n",
       "</div>"
      ],
      "text/plain": [
       "   GENDER     STATE  AGE  MONTHLY_INCOME  LOAN_AMOUNT_APPLIED  \\\n",
       "0    Male  New York   36     1313.242865             900000.0   \n",
       "1    Male  New York   32     1270.880192             900000.0   \n",
       "2    Male  New York   28      500.000000              10000.0   \n",
       "3    Male  New York   35     1497.000000             900000.0   \n",
       "4  Female  New York   28      903.000000             700000.0   \n",
       "\n",
       "   LOAN_TENURE_APPLIED  EXISTING_EMI MOBILE_VERIFIED FILLED_FORM VAR2 SOURCE  \\\n",
       "0                  3.0         139.0               Y           Y    E   S127   \n",
       "1                  3.0           0.0               Y           N    G   S151   \n",
       "2                  0.0         100.0               Y           N    B   S144   \n",
       "3                  3.0         140.0               Y           Y    B   S133   \n",
       "4                  3.0           0.0               N           Y    B   S160   \n",
       "\n",
       "   VAR4  VAR5  VAR1  DISBURSED  \n",
       "0   7.0    14  HBXX        1.0  \n",
       "1   5.0    10  HBXB        1.0  \n",
       "2   4.0    11  HBXC        0.0  \n",
       "3   4.0     0  HAXB        1.0  \n",
       "4   1.0     3  HBXX        0.0  "
      ]
     },
     "execution_count": 5,
     "metadata": {},
     "output_type": "execute_result"
    }
   ],
   "source": [
    "data.head()"
   ]
  },
  {
   "cell_type": "code",
   "execution_count": 6,
   "id": "06510704",
   "metadata": {},
   "outputs": [],
   "source": [
    "# data = data.dropna()"
   ]
  },
  {
   "cell_type": "code",
   "execution_count": 6,
   "id": "7bbc818f",
   "metadata": {},
   "outputs": [],
   "source": [
    "cat_col = []\n",
    "num_col = []\n",
    "target = \"DISBURSED\"\n",
    "\n",
    "for k, v in dict(data.dtypes).items():\n",
    "    if k != target:\n",
    "        if v == \"O\":\n",
    "            cat_col.append(k)\n",
    "        else:\n",
    "            num_col.append(k)"
   ]
  },
  {
   "cell_type": "markdown",
   "id": "a03bc9ca",
   "metadata": {},
   "source": [
    "# Train Test Split"
   ]
  },
  {
   "cell_type": "code",
   "execution_count": 7,
   "id": "d3ded7fa",
   "metadata": {},
   "outputs": [],
   "source": [
    "used_cols = [c for c in data.columns.tolist() if c not in [target]]\n",
    "X = data[used_cols]\n",
    "y = data[target]\n",
    "X_train, X_test, y_train, y_test = train_test_split(X, y, test_size=0.2, random_state=42)"
   ]
  },
  {
   "cell_type": "markdown",
   "id": "0ededfc5",
   "metadata": {},
   "source": [
    "# Building and Training Model Pipeline"
   ]
  },
  {
   "cell_type": "code",
   "execution_count": 8,
   "id": "db443bd7",
   "metadata": {},
   "outputs": [],
   "source": [
    "# making pipeline\n",
    "scaler = RobustScaler()\n",
    "encoder = OneHotEncoder(handle_unknown=\"ignore\")\n",
    "# putting numeric columns to scaler and categorical to encoder\n",
    "num_transformer = make_pipeline(scaler)\n",
    "cat_transformer = make_pipeline(encoder)\n",
    "\n",
    "# getting together our scaler and encoder with preprocessor\n",
    "preprocessor = ColumnTransformer(\n",
    "      transformers=[('num', num_transformer, num_col),\n",
    "                    ('cat', cat_transformer, cat_col)])"
   ]
  },
  {
   "cell_type": "code",
   "execution_count": null,
   "id": "497e6ad7",
   "metadata": {},
   "outputs": [],
   "source": [
    "# choosing model\n",
    "model_name = RandomForestClassifier(n_estimators = 500, max_depth=8, random_state=25, max_samples=0.6)\n",
    "\n",
    "# giving all values to pipeline\n",
    "pipe = make_pipeline(preprocessor,model_name)\n",
    "pipe.fit(X_train, y_train)"
   ]
  },
  {
   "cell_type": "markdown",
   "id": "4163de29",
   "metadata": {},
   "source": [
    "# Prediction"
   ]
  },
  {
   "cell_type": "code",
   "execution_count": null,
   "id": "f0494cfa",
   "metadata": {},
   "outputs": [],
   "source": [
    "# make predictions on test set\n",
    "y_pred = pipe.predict(X_test)\n",
    "y_prob = pipe.predict_proba(X_test)\n"
   ]
  },
  {
   "cell_type": "markdown",
   "id": "affe46c2",
   "metadata": {},
   "source": [
    "# Model Evaluation"
   ]
  },
  {
   "cell_type": "code",
   "execution_count": null,
   "id": "a339d512",
   "metadata": {},
   "outputs": [],
   "source": [
    "# importing Libraries \n",
    "from sklearn.metrics import confusion_matrix, accuracy_score, precision_score, recall_score, f1_score, roc_curve, auc"
   ]
  },
  {
   "cell_type": "code",
   "execution_count": null,
   "id": "d0676a1e",
   "metadata": {},
   "outputs": [],
   "source": [
    "# Confusion Matrix \n",
    "cm = confusion_matrix(y_test, y_pred) \n",
    "# Accuracy \n",
    "accuracy = accuracy_score(y_test, y_pred) \n",
    "# Precision \n",
    "precision = precision_score(y_test, y_pred) \n",
    "# Recall \n",
    "recall = recall_score(y_test, y_pred) \n",
    "# F1-Score \n",
    "f1 = f1_score(y_test, y_pred) \n",
    "# ROC Curve and AUC \n",
    "fpr, tpr, thresholds = roc_curve(y_test, y_pred) \n",
    "roc_auc = auc(fpr, tpr) \n",
    "  \n",
    "print(\"Confusion Matrix:\") \n",
    "print(cm) \n",
    "print(\"Accuracy:\", round(accuracy,2)) \n",
    "print(\"Precision:\", round(precision,2)) \n",
    "print(\"Recall:\", round(recall,2)) \n",
    "print(\"F1-Score:\", round(f1,2)) \n",
    "print(\"ROC AUC:\", round(roc_auc,2)) "
   ]
  },
  {
   "cell_type": "code",
   "execution_count": null,
   "id": "c6aaadc6",
   "metadata": {},
   "outputs": [],
   "source": [
    "\n",
    "import matplotlib.pyplot as plt \n",
    "  \n",
    "# Plot ROC curve \n",
    "plt.figure() \n",
    "  \n",
    "# Plot the ROC curve with a label displaying the ROC AUC score \n",
    "plt.plot(fpr, tpr, color='darkorange', lw=2, \n",
    "         label='ROC curve (area = %0.2f)' % roc_auc) \n",
    "  \n",
    "# Plot a dashed diagonal line for reference \n",
    "plt.plot([0, 1], [0, 1], color='navy', lw=2, linestyle='--') \n",
    "  \n",
    "# Set the x and y-axis limits \n",
    "plt.xlim([0.0, 1.0]) \n",
    "plt.ylim([0.0, 1.05]) \n",
    "  \n",
    "# Label the x and y-axes \n",
    "plt.xlabel('False Positive Rate') \n",
    "plt.ylabel('True Positive Rate') \n",
    "  \n",
    "# Set the title of the plot \n",
    "plt.title('Receiver Operating Characteristic') \n",
    "  \n",
    "# Add a legend to the plot \n",
    "plt.legend(loc='lower right') \n",
    "  \n",
    "# Display the ROC curve plot \n",
    "plt.show() "
   ]
  },
  {
   "cell_type": "markdown",
   "id": "24c1d990",
   "metadata": {},
   "source": [
    "# Model Registrartion"
   ]
  },
  {
   "cell_type": "code",
   "execution_count": 15,
   "id": "cd017d74",
   "metadata": {},
   "outputs": [],
   "source": [
    "from fosforml import *\n",
    "from fosforml.constants import MLModelFlavours\n",
    "import requests"
   ]
  },
  {
   "cell_type": "code",
   "execution_count": 32,
   "id": "8fd31b59",
   "metadata": {},
   "outputs": [],
   "source": [
    "@scoring_func\n",
    "def score(model, request):\n",
    "    payload_dict = eval(request.json[\"payload\"])\n",
    "    data = pd.DataFrame.from_dict(payload_dict)\n",
    "    result = pipe.predict(data)\n",
    "    prediction = pd.DataFrame({\"Lead_Status\":result})\n",
    "    prediction[\"Lead_Status\"] = prediction[\"Lead_Status\"].apply(lambda x: \"Converted\" if x == 1 else \"Not Converted\")\n",
    "    probability = pipe.predict_proba(data)\n",
    "    prediction[\"Probability\"] = [round(k[1],4) for k in probability]\n",
    "    prediction = str(prediction.to_dict())\n",
    "    return prediction"
   ]
  },
  {
   "cell_type": "code",
   "execution_count": 33,
   "id": "a92e35ee",
   "metadata": {},
   "outputs": [
    {
     "data": {
      "text/plain": [
       "\"{'Lead_Status': {0: 'Not Converted', 1: 'Converted', 2: 'Converted', 3: 'Not Converted', 4: 'Not Converted', 5: 'Not Converted', 6: 'Not Converted', 7: 'Converted', 8: 'Not Converted', 9: 'Not Converted', 10: 'Not Converted', 11: 'Not Converted', 12: 'Not Converted', 13: 'Not Converted', 14: 'Not Converted', 15: 'Not Converted', 16: 'Converted', 17: 'Not Converted', 18: 'Not Converted', 19: 'Not Converted', 20: 'Converted', 21: 'Not Converted', 22: 'Not Converted', 23: 'Not Converted', 24: 'Converted', 25: 'Not Converted', 26: 'Converted', 27: 'Converted', 28: 'Converted', 29: 'Converted', 30: 'Not Converted', 31: 'Not Converted', 32: 'Converted', 33: 'Converted', 34: 'Not Converted', 35: 'Not Converted', 36: 'Not Converted', 37: 'Not Converted', 38: 'Converted', 39: 'Not Converted', 40: 'Not Converted', 41: 'Converted', 42: 'Not Converted', 43: 'Not Converted', 44: 'Converted', 45: 'Not Converted', 46: 'Not Converted', 47: 'Converted', 48: 'Not Converted', 49: 'Not Converted', 50: 'Not Converted', 51: 'Not Converted', 52: 'Converted', 53: 'Not Converted', 54: 'Not Converted', 55: 'Not Converted', 56: 'Converted', 57: 'Not Converted', 58: 'Not Converted', 59: 'Converted', 60: 'Not Converted', 61: 'Not Converted', 62: 'Converted', 63: 'Not Converted', 64: 'Converted', 65: 'Not Converted', 66: 'Not Converted', 67: 'Converted', 68: 'Converted', 69: 'Converted', 70: 'Not Converted', 71: 'Converted', 72: 'Not Converted', 73: 'Not Converted', 74: 'Not Converted', 75: 'Converted', 76: 'Not Converted', 77: 'Not Converted', 78: 'Not Converted', 79: 'Not Converted', 80: 'Converted', 81: 'Not Converted', 82: 'Not Converted', 83: 'Not Converted', 84: 'Not Converted', 85: 'Not Converted', 86: 'Converted', 87: 'Converted', 88: 'Not Converted', 89: 'Not Converted', 90: 'Not Converted', 91: 'Not Converted', 92: 'Converted', 93: 'Not Converted', 94: 'Not Converted', 95: 'Converted', 96: 'Not Converted', 97: 'Converted', 98: 'Not Converted', 99: 'Converted'}, 'Probability': {0: 0.1751, 1: 0.8642, 2: 0.8114, 3: 0.1555, 4: 0.3688, 5: 0.1075, 6: 0.3667, 7: 0.9234, 8: 0.1996, 9: 0.1312, 10: 0.257, 11: 0.3821, 12: 0.1021, 13: 0.4145, 14: 0.3159, 15: 0.2863, 16: 0.8261, 17: 0.1333, 18: 0.338, 19: 0.2396, 20: 0.5524, 21: 0.3364, 22: 0.3128, 23: 0.2542, 24: 0.5588, 25: 0.4333, 26: 0.8984, 27: 0.6272, 28: 0.7424, 29: 0.8408, 30: 0.0951, 31: 0.2242, 32: 0.6292, 33: 0.8124, 34: 0.0644, 35: 0.2905, 36: 0.1502, 37: 0.2926, 38: 0.6222, 39: 0.1165, 40: 0.2648, 41: 0.8571, 42: 0.1079, 43: 0.1339, 44: 0.6623, 45: 0.4338, 46: 0.1086, 47: 0.5136, 48: 0.1265, 49: 0.0973, 50: 0.1335, 51: 0.105, 52: 0.8429, 53: 0.0199, 54: 0.3172, 55: 0.1281, 56: 0.5688, 57: 0.3689, 58: 0.1183, 59: 0.8357, 60: 0.1321, 61: 0.0799, 62: 0.6302, 63: 0.0841, 64: 0.647, 65: 0.097, 66: 0.129, 67: 0.7519, 68: 0.8302, 69: 0.7116, 70: 0.0289, 71: 0.611, 72: 0.1924, 73: 0.4498, 74: 0.3616, 75: 0.5945, 76: 0.1114, 77: 0.0943, 78: 0.2885, 79: 0.1373, 80: 0.6198, 81: 0.0758, 82: 0.1935, 83: 0.178, 84: 0.2404, 85: 0.1181, 86: 0.572, 87: 0.7915, 88: 0.0753, 89: 0.1, 90: 0.1242, 91: 0.2913, 92: 0.8512, 93: 0.1127, 94: 0.1146, 95: 0.6776, 96: 0.3776, 97: 0.6714, 98: 0.3148, 99: 0.5501}}\""
      ]
     },
     "execution_count": 33,
     "metadata": {},
     "output_type": "execute_result"
    }
   ],
   "source": [
    "payload = X_test.head(100).to_dict()\n",
    "req = requests.Request()\n",
    "req.json = {\"payload\":str(payload)}\n",
    "y = req\n",
    "yo = score(pipe, y)\n",
    "yo"
   ]
  },
  {
   "cell_type": "code",
   "execution_count": 34,
   "id": "fa2f7f27",
   "metadata": {
    "scrolled": false
   },
   "outputs": [
    {
     "name": "stdout",
     "output_type": "stream",
     "text": [
      "Calculating build time metrics\n",
      "\n",
      "Progress: ██████████████████████████████████████████████████████████████████████ 100.0%\n"
     ]
    },
    {
     "data": {
      "application/vnd.jupyter.widget-view+json": {
       "model_id": "43ec3a74225b4a4e980fb5f70b7647b0",
       "version_major": 2,
       "version_minor": 0
      },
      "text/plain": [
       "VBox(children=(HTML(value='<style>.grad_1{background: #2468a4;} .grad_2{ color:white; background: #2468a4;}</s…"
      ]
     },
     "metadata": {},
     "output_type": "display_data"
    }
   ],
   "source": [
    "## registering the model in Fosfor.\n",
    "model_reg = register_model(pipe,\n",
    "               score, \n",
    "               name=\"Lead_Conversion_model\", \n",
    "               description=\"Lead_conversion_RandomForest_Model\",\n",
    "               flavour=MLModelFlavours.sklearn,\n",
    "               model_type=\"classification\",\n",
    "               init_script=\"\\\\n pip install fosforml \\\\n pip install fosforio[snowflake] \\\\n pip install sklearn\\\\n pip install snowflake-connector-python[pandas]\",\n",
    "               y_true=y_test,\n",
    "               y_pred=y_pred,\n",
    "               prob=y_prob,\n",
    "               features=X_train.columns,\n",
    "               input_type=\"json\", \n",
    "               explain_ai=True,\n",
    "               x_train=X_train, \n",
    "               x_test=X_test, \n",
    "               y_train=y_train,\n",
    "               y_test=y_test,\n",
    "               feature_names=X_train.columns.tolist(),\n",
    "               original_features=X_train.columns.tolist(),\n",
    "               feature_ids=X_train.columns,\n",
    "               kyd=True, kyd_score = True)"
   ]
  },
  {
   "cell_type": "markdown",
   "id": "c90a20be",
   "metadata": {},
   "source": [
    "# Predicted File to snowflake "
   ]
  },
  {
   "cell_type": "code",
   "execution_count": 35,
   "id": "fca58545",
   "metadata": {},
   "outputs": [
    {
     "name": "stdout",
     "output_type": "stream",
     "text": [
      "connection successful!\n"
     ]
    }
   ],
   "source": [
    "import os\n",
    "config = configparser.ConfigParser()\n",
    "config.read(\"credentials.ini\")\n",
    "\n",
    "connection_parameters = {\n",
    "    \"user\": f'{config[\"Snowflake\"][\"user\"]}',\n",
    "    \"password\": os.getenv('Snowflake_password'),\n",
    "    \"account\": f'{config[\"Snowflake\"][\"account\"]}',\n",
    "    \"WAREHOUSE\": f'{config[\"Snowflake\"][\"WAREHOUSE\"]}',\n",
    "    \"DATABASE\": f'{config[\"Snowflake\"][\"DATABASE\"]}',\n",
    "    \"SCHEMA\": f'{config[\"Snowflake\"][\"SCHEMA\"]}'\n",
    "}\n",
    "\n",
    "\n",
    "def snowflake_connector(conn):\n",
    "    try:\n",
    "        session = Session.builder.configs(conn).create()\n",
    "        print(\"connection successful!\")\n",
    "    except:\n",
    "        raise ValueError(\"error while connecting with db\")\n",
    "    return session\n",
    "\n",
    "session = snowflake_connector(connection_parameters)"
   ]
  },
  {
   "cell_type": "code",
   "execution_count": 36,
   "id": "257fb1e4",
   "metadata": {},
   "outputs": [],
   "source": [
    "data[\"Lead_Status\"] = pipe.predict(data)\n",
    "data[\"Lead_Status\"] = data[\"Lead_Status\"].apply(lambda x: \"Converted\" if x == 1 else \"Not Converted\")\n",
    "\n",
    "probability = pipe.predict_proba(data)\n",
    "data[\"Probability\"] = [round(k[1],4) for k in probability]"
   ]
  },
  {
   "cell_type": "code",
   "execution_count": 37,
   "id": "13f5fa40",
   "metadata": {},
   "outputs": [
    {
     "data": {
      "text/html": [
       "<div>\n",
       "<style scoped>\n",
       "    .dataframe tbody tr th:only-of-type {\n",
       "        vertical-align: middle;\n",
       "    }\n",
       "\n",
       "    .dataframe tbody tr th {\n",
       "        vertical-align: top;\n",
       "    }\n",
       "\n",
       "    .dataframe thead th {\n",
       "        text-align: right;\n",
       "    }\n",
       "</style>\n",
       "<table border=\"1\" class=\"dataframe\">\n",
       "  <thead>\n",
       "    <tr style=\"text-align: right;\">\n",
       "      <th></th>\n",
       "      <th>GENDER</th>\n",
       "      <th>STATE</th>\n",
       "      <th>AGE</th>\n",
       "      <th>MONTHLY_INCOME</th>\n",
       "      <th>LOAN_AMOUNT_APPLIED</th>\n",
       "      <th>LOAN_TENURE_APPLIED</th>\n",
       "      <th>EXISTING_EMI</th>\n",
       "      <th>MOBILE_VERIFIED</th>\n",
       "      <th>FILLED_FORM</th>\n",
       "      <th>VAR2</th>\n",
       "      <th>SOURCE</th>\n",
       "      <th>VAR4</th>\n",
       "      <th>VAR5</th>\n",
       "      <th>VAR1</th>\n",
       "      <th>DISBURSED</th>\n",
       "      <th>Lead_Status</th>\n",
       "      <th>Probability</th>\n",
       "    </tr>\n",
       "  </thead>\n",
       "  <tbody>\n",
       "    <tr>\n",
       "      <th>0</th>\n",
       "      <td>Male</td>\n",
       "      <td>New York</td>\n",
       "      <td>36</td>\n",
       "      <td>1313.242865</td>\n",
       "      <td>900000.0</td>\n",
       "      <td>3.0</td>\n",
       "      <td>139.0</td>\n",
       "      <td>Y</td>\n",
       "      <td>Y</td>\n",
       "      <td>E</td>\n",
       "      <td>S127</td>\n",
       "      <td>7.0</td>\n",
       "      <td>14</td>\n",
       "      <td>HBXX</td>\n",
       "      <td>1.0</td>\n",
       "      <td>Converted</td>\n",
       "      <td>0.8964</td>\n",
       "    </tr>\n",
       "    <tr>\n",
       "      <th>1</th>\n",
       "      <td>Male</td>\n",
       "      <td>New York</td>\n",
       "      <td>32</td>\n",
       "      <td>1270.880192</td>\n",
       "      <td>900000.0</td>\n",
       "      <td>3.0</td>\n",
       "      <td>0.0</td>\n",
       "      <td>Y</td>\n",
       "      <td>N</td>\n",
       "      <td>G</td>\n",
       "      <td>S151</td>\n",
       "      <td>5.0</td>\n",
       "      <td>10</td>\n",
       "      <td>HBXB</td>\n",
       "      <td>1.0</td>\n",
       "      <td>Converted</td>\n",
       "      <td>0.7631</td>\n",
       "    </tr>\n",
       "    <tr>\n",
       "      <th>2</th>\n",
       "      <td>Male</td>\n",
       "      <td>New York</td>\n",
       "      <td>28</td>\n",
       "      <td>500.000000</td>\n",
       "      <td>10000.0</td>\n",
       "      <td>0.0</td>\n",
       "      <td>100.0</td>\n",
       "      <td>Y</td>\n",
       "      <td>N</td>\n",
       "      <td>B</td>\n",
       "      <td>S144</td>\n",
       "      <td>4.0</td>\n",
       "      <td>11</td>\n",
       "      <td>HBXC</td>\n",
       "      <td>0.0</td>\n",
       "      <td>Not Converted</td>\n",
       "      <td>0.0941</td>\n",
       "    </tr>\n",
       "    <tr>\n",
       "      <th>3</th>\n",
       "      <td>Male</td>\n",
       "      <td>New York</td>\n",
       "      <td>35</td>\n",
       "      <td>1497.000000</td>\n",
       "      <td>900000.0</td>\n",
       "      <td>3.0</td>\n",
       "      <td>140.0</td>\n",
       "      <td>Y</td>\n",
       "      <td>Y</td>\n",
       "      <td>B</td>\n",
       "      <td>S133</td>\n",
       "      <td>4.0</td>\n",
       "      <td>0</td>\n",
       "      <td>HAXB</td>\n",
       "      <td>1.0</td>\n",
       "      <td>Converted</td>\n",
       "      <td>0.8840</td>\n",
       "    </tr>\n",
       "    <tr>\n",
       "      <th>4</th>\n",
       "      <td>Female</td>\n",
       "      <td>New York</td>\n",
       "      <td>28</td>\n",
       "      <td>903.000000</td>\n",
       "      <td>700000.0</td>\n",
       "      <td>3.0</td>\n",
       "      <td>0.0</td>\n",
       "      <td>N</td>\n",
       "      <td>Y</td>\n",
       "      <td>B</td>\n",
       "      <td>S160</td>\n",
       "      <td>1.0</td>\n",
       "      <td>3</td>\n",
       "      <td>HBXX</td>\n",
       "      <td>0.0</td>\n",
       "      <td>Not Converted</td>\n",
       "      <td>0.0830</td>\n",
       "    </tr>\n",
       "  </tbody>\n",
       "</table>\n",
       "</div>"
      ],
      "text/plain": [
       "   GENDER     STATE  AGE  MONTHLY_INCOME  LOAN_AMOUNT_APPLIED  \\\n",
       "0    Male  New York   36     1313.242865             900000.0   \n",
       "1    Male  New York   32     1270.880192             900000.0   \n",
       "2    Male  New York   28      500.000000              10000.0   \n",
       "3    Male  New York   35     1497.000000             900000.0   \n",
       "4  Female  New York   28      903.000000             700000.0   \n",
       "\n",
       "   LOAN_TENURE_APPLIED  EXISTING_EMI MOBILE_VERIFIED FILLED_FORM VAR2 SOURCE  \\\n",
       "0                  3.0         139.0               Y           Y    E   S127   \n",
       "1                  3.0           0.0               Y           N    G   S151   \n",
       "2                  0.0         100.0               Y           N    B   S144   \n",
       "3                  3.0         140.0               Y           Y    B   S133   \n",
       "4                  3.0           0.0               N           Y    B   S160   \n",
       "\n",
       "   VAR4  VAR5  VAR1  DISBURSED    Lead_Status  Probability  \n",
       "0   7.0    14  HBXX        1.0      Converted       0.8964  \n",
       "1   5.0    10  HBXB        1.0      Converted       0.7631  \n",
       "2   4.0    11  HBXC        0.0  Not Converted       0.0941  \n",
       "3   4.0     0  HAXB        1.0      Converted       0.8840  \n",
       "4   1.0     3  HBXX        0.0  Not Converted       0.0830  "
      ]
     },
     "execution_count": 37,
     "metadata": {},
     "output_type": "execute_result"
    }
   ],
   "source": [
    "data.head()"
   ]
  },
  {
   "cell_type": "code",
   "execution_count": 38,
   "id": "e379f06d",
   "metadata": {},
   "outputs": [],
   "source": [
    "data[[\"ID\", \"LEAD_CREATION_DATE\", \"DEVICE_TYPE\", \"SALARY_ACCOUNT\", \"CITY\", \"DOB\", \"EMPLOYER_NAME\",\"YEAR\",\"QUARTER\",\"MONTH\"]] = temp_data[[\"ID\", \"LEAD_CREATION_DATE\", \"DEVICE_TYPE\", \"SALARY_ACCOUNT\", \"CITY\", \"DOB\", \"EMPLOYER_NAME\",\"YEAR\",\"QUARTER\",\"MONTH\"]] "
   ]
  },
  {
   "cell_type": "code",
   "execution_count": 39,
   "id": "2f46e815",
   "metadata": {},
   "outputs": [],
   "source": [
    "data[\"QUARTER\"] = data[\"QUARTER\"].apply(lambda x: \"Q\"+str(x))"
   ]
  },
  {
   "cell_type": "code",
   "execution_count": 40,
   "id": "c0ef29ae",
   "metadata": {},
   "outputs": [],
   "source": [
    "def change_date_format(x):\n",
    "    temp = x.split(\"/\")\n",
    "    temp = temp[::-1]\n",
    "    return \"-\".join(temp)\n",
    "\n",
    "data[\"LEAD_CREATION_DATE\"] = data[\"LEAD_CREATION_DATE\"].apply(change_date_format)\n",
    "data[\"DOB\"] = data[\"DOB\"].apply(change_date_format)\n"
   ]
  },
  {
   "cell_type": "code",
   "execution_count": 41,
   "id": "155bd944",
   "metadata": {},
   "outputs": [],
   "source": [
    "def first_of_month(x):\n",
    "    temp = x.split(\"-\")\n",
    "    temp[-1] = \"1\"\n",
    "    return \"-\".join(temp)\n",
    "data[\"LEAD_CREATION_DATE\"] = data[\"LEAD_CREATION_DATE\"].apply(first_of_month)"
   ]
  },
  {
   "cell_type": "code",
   "execution_count": 42,
   "id": "3843e15f",
   "metadata": {},
   "outputs": [
    {
     "data": {
      "text/plain": [
       "27"
      ]
     },
     "execution_count": 42,
     "metadata": {},
     "output_type": "execute_result"
    }
   ],
   "source": [
    "len(data.columns)"
   ]
  },
  {
   "cell_type": "code",
   "execution_count": 44,
   "id": "42620205",
   "metadata": {},
   "outputs": [],
   "source": [
    "df_snowflake=session.createDataFrame(\n",
    "        data.values.tolist(),\n",
    "        schema=data.columns.tolist())\n",
    "\n",
    "df_snowflake.write.mode(\"overwrite\").save_as_table(\"FDC_BANKING_FS.BFS_LEAD_CONV_SCHEMA.MASTER_DATA\")"
   ]
  }
 ],
 "metadata": {
  "kernelspec": {
   "display_name": "Python 3",
   "language": "python",
   "name": "python3"
  },
  "language_info": {
   "codemirror_mode": {
    "name": "ipython",
    "version": 3
   },
   "file_extension": ".py",
   "mimetype": "text/x-python",
   "name": "python",
   "nbconvert_exporter": "python",
   "pygments_lexer": "ipython3",
   "version": "3.8.18"
  }
 },
 "nbformat": 4,
 "nbformat_minor": 5
}
