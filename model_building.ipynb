{
 "cells": [
  {
   "cell_type": "markdown",
   "id": "95cb21bb",
   "metadata": {},
   "source": [
    "# Importing Libraries"
   ]
  },
  {
   "cell_type": "code",
   "execution_count": 1,
   "id": "7f70010e",
   "metadata": {},
   "outputs": [
    {
     "name": "stdout",
     "output_type": "stream",
     "text": [
      "Connection manager service url initialised to http://fdc-project-manager:80/project-manager\n",
      "If you need to update its value then update the variable CONNECTION_MANAGER_BASE_URL in os env.\n"
     ]
    }
   ],
   "source": [
    "#Snowpark lib\n",
    "from snowflake.snowpark import Session\n",
    "\n",
    "# Data Science Libs\n",
    "import numpy as np\n",
    "import pandas as pd\n",
    "\n",
    "# create_temp_table warning suppresion\n",
    "import warnings; warnings.simplefilter('ignore')\n",
    "\n",
    "#ConfigParser to read ini file\n",
    "import configparser\n",
    "\n",
    "from fosforio import snowflake\n",
    "\n",
    "from sklearn.pipeline import Pipeline\n",
    "from sklearn.model_selection import train_test_split\n",
    "from sklearn.ensemble import RandomForestClassifier\n",
    "from sklearn.pipeline import make_pipeline\n",
    "from sklearn.preprocessing import RobustScaler\n",
    "from sklearn.preprocessing import OneHotEncoder\n",
    "from sklearn.compose import ColumnTransformer"
   ]
  },
  {
   "cell_type": "markdown",
   "id": "cdd7da9c",
   "metadata": {},
   "source": [
    "# Fetching Data"
   ]
  },
  {
   "cell_type": "code",
   "execution_count": 2,
   "id": "4e535644",
   "metadata": {},
   "outputs": [
    {
     "data": {
      "text/html": [
       "<div>\n",
       "<style scoped>\n",
       "    .dataframe tbody tr th:only-of-type {\n",
       "        vertical-align: middle;\n",
       "    }\n",
       "\n",
       "    .dataframe tbody tr th {\n",
       "        vertical-align: top;\n",
       "    }\n",
       "\n",
       "    .dataframe thead th {\n",
       "        text-align: right;\n",
       "    }\n",
       "</style>\n",
       "<table border=\"1\" class=\"dataframe\">\n",
       "  <thead>\n",
       "    <tr style=\"text-align: right;\">\n",
       "      <th></th>\n",
       "      <th>ID</th>\n",
       "      <th>GENDER</th>\n",
       "      <th>DOB</th>\n",
       "      <th>CITY</th>\n",
       "      <th>STATE</th>\n",
       "      <th>AGE</th>\n",
       "      <th>MONTHLY_INCOME</th>\n",
       "      <th>EMPLOYER_NAME</th>\n",
       "      <th>SALARY_ACCOUNT</th>\n",
       "      <th>LOAN_AMOUNT_APPLIED</th>\n",
       "      <th>...</th>\n",
       "      <th>QUARTER</th>\n",
       "      <th>MOBILE_VERIFIED</th>\n",
       "      <th>FILLED_FORM</th>\n",
       "      <th>DEVICE_TYPE</th>\n",
       "      <th>VAR2</th>\n",
       "      <th>SOURCE</th>\n",
       "      <th>VAR4</th>\n",
       "      <th>VAR5</th>\n",
       "      <th>VAR1</th>\n",
       "      <th>DISBURSED</th>\n",
       "    </tr>\n",
       "  </thead>\n",
       "  <tbody>\n",
       "    <tr>\n",
       "      <th>0</th>\n",
       "      <td>ID000977Z13</td>\n",
       "      <td>Male</td>\n",
       "      <td>10/1/1988</td>\n",
       "      <td>New York</td>\n",
       "      <td>New York</td>\n",
       "      <td>36</td>\n",
       "      <td>1313.242865</td>\n",
       "      <td>Hcl Global Systems</td>\n",
       "      <td>Bank of Hope</td>\n",
       "      <td>900000.0</td>\n",
       "      <td>...</td>\n",
       "      <td>4</td>\n",
       "      <td>Y</td>\n",
       "      <td>Y</td>\n",
       "      <td>Mobile</td>\n",
       "      <td>E</td>\n",
       "      <td>S127</td>\n",
       "      <td>7.0</td>\n",
       "      <td>14</td>\n",
       "      <td>HBXX</td>\n",
       "      <td>1.0</td>\n",
       "    </tr>\n",
       "    <tr>\n",
       "      <th>1</th>\n",
       "      <td>ID000626U25</td>\n",
       "      <td>Male</td>\n",
       "      <td>4/1/1992</td>\n",
       "      <td>New York</td>\n",
       "      <td>New York</td>\n",
       "      <td>32</td>\n",
       "      <td>1270.880192</td>\n",
       "      <td>Synechron</td>\n",
       "      <td>Bank of Marin</td>\n",
       "      <td>900000.0</td>\n",
       "      <td>...</td>\n",
       "      <td>2</td>\n",
       "      <td>Y</td>\n",
       "      <td>N</td>\n",
       "      <td>Web-browser</td>\n",
       "      <td>G</td>\n",
       "      <td>S151</td>\n",
       "      <td>5.0</td>\n",
       "      <td>10</td>\n",
       "      <td>HBXB</td>\n",
       "      <td>1.0</td>\n",
       "    </tr>\n",
       "    <tr>\n",
       "      <th>2</th>\n",
       "      <td>ID019473Z30</td>\n",
       "      <td>Male</td>\n",
       "      <td>02/1/1996</td>\n",
       "      <td>New York</td>\n",
       "      <td>New York</td>\n",
       "      <td>28</td>\n",
       "      <td>500.000000</td>\n",
       "      <td>Syntel</td>\n",
       "      <td>Exchange Bank</td>\n",
       "      <td>10000.0</td>\n",
       "      <td>...</td>\n",
       "      <td>2</td>\n",
       "      <td>Y</td>\n",
       "      <td>N</td>\n",
       "      <td>Web-browser</td>\n",
       "      <td>B</td>\n",
       "      <td>S144</td>\n",
       "      <td>4.0</td>\n",
       "      <td>11</td>\n",
       "      <td>HBXC</td>\n",
       "      <td>0.0</td>\n",
       "    </tr>\n",
       "    <tr>\n",
       "      <th>3</th>\n",
       "      <td>ID000062G50</td>\n",
       "      <td>Male</td>\n",
       "      <td>3/6/1989</td>\n",
       "      <td>New York</td>\n",
       "      <td>New York</td>\n",
       "      <td>35</td>\n",
       "      <td>1497.000000</td>\n",
       "      <td>Uber Technologies</td>\n",
       "      <td>Bank of Marin</td>\n",
       "      <td>900000.0</td>\n",
       "      <td>...</td>\n",
       "      <td>1</td>\n",
       "      <td>Y</td>\n",
       "      <td>Y</td>\n",
       "      <td>Web-browser</td>\n",
       "      <td>B</td>\n",
       "      <td>S133</td>\n",
       "      <td>4.0</td>\n",
       "      <td>0</td>\n",
       "      <td>HAXB</td>\n",
       "      <td>1.0</td>\n",
       "    </tr>\n",
       "    <tr>\n",
       "      <th>4</th>\n",
       "      <td>ID000935I02</td>\n",
       "      <td>Female</td>\n",
       "      <td>30/8/1996</td>\n",
       "      <td>New York</td>\n",
       "      <td>New York</td>\n",
       "      <td>28</td>\n",
       "      <td>903.000000</td>\n",
       "      <td>Hcl America</td>\n",
       "      <td>CIT Bank</td>\n",
       "      <td>700000.0</td>\n",
       "      <td>...</td>\n",
       "      <td>4</td>\n",
       "      <td>N</td>\n",
       "      <td>Y</td>\n",
       "      <td>Web-browser</td>\n",
       "      <td>B</td>\n",
       "      <td>S160</td>\n",
       "      <td>1.0</td>\n",
       "      <td>3</td>\n",
       "      <td>HBXX</td>\n",
       "      <td>0.0</td>\n",
       "    </tr>\n",
       "  </tbody>\n",
       "</table>\n",
       "<p>5 rows × 25 columns</p>\n",
       "</div>"
      ],
      "text/plain": [
       "            ID  GENDER        DOB      CITY     STATE  AGE  MONTHLY_INCOME  \\\n",
       "0  ID000977Z13    Male  10/1/1988  New York  New York   36     1313.242865   \n",
       "1  ID000626U25    Male   4/1/1992  New York  New York   32     1270.880192   \n",
       "2  ID019473Z30    Male  02/1/1996  New York  New York   28      500.000000   \n",
       "3  ID000062G50    Male   3/6/1989  New York  New York   35     1497.000000   \n",
       "4  ID000935I02  Female  30/8/1996  New York  New York   28      903.000000   \n",
       "\n",
       "        EMPLOYER_NAME SALARY_ACCOUNT  LOAN_AMOUNT_APPLIED  ...  QUARTER  \\\n",
       "0  Hcl Global Systems   Bank of Hope             900000.0  ...        4   \n",
       "1           Synechron  Bank of Marin             900000.0  ...        2   \n",
       "2              Syntel  Exchange Bank              10000.0  ...        2   \n",
       "3   Uber Technologies  Bank of Marin             900000.0  ...        1   \n",
       "4         Hcl America       CIT Bank             700000.0  ...        4   \n",
       "\n",
       "   MOBILE_VERIFIED FILLED_FORM  DEVICE_TYPE  VAR2  SOURCE VAR4 VAR5  VAR1  \\\n",
       "0                Y           Y       Mobile     E    S127  7.0   14  HBXX   \n",
       "1                Y           N  Web-browser     G    S151  5.0   10  HBXB   \n",
       "2                Y           N  Web-browser     B    S144  4.0   11  HBXC   \n",
       "3                Y           Y  Web-browser     B    S133  4.0    0  HAXB   \n",
       "4                N           Y  Web-browser     B    S160  1.0    3  HBXX   \n",
       "\n",
       "  DISBURSED  \n",
       "0       1.0  \n",
       "1       1.0  \n",
       "2       0.0  \n",
       "3       1.0  \n",
       "4       0.0  \n",
       "\n",
       "[5 rows x 25 columns]"
      ]
     },
     "execution_count": 2,
     "metadata": {},
     "output_type": "execute_result"
    }
   ],
   "source": [
    "# To read a specific dataset published from a snowflake connection\n",
    "df = snowflake.get_dataframe(\"MASTER\")\n",
    "df.head()"
   ]
  },
  {
   "cell_type": "code",
   "execution_count": 3,
   "id": "716e21a7",
   "metadata": {},
   "outputs": [],
   "source": [
    "df = df.dropna()"
   ]
  },
  {
   "cell_type": "markdown",
   "id": "d90227e2",
   "metadata": {},
   "source": [
    "# Preprocessing"
   ]
  },
  {
   "cell_type": "code",
   "execution_count": 4,
   "id": "33436038",
   "metadata": {},
   "outputs": [],
   "source": [
    "temp_data = df[[\"ID\", \"LEAD_CREATION_DATE\", \"DEVICE_TYPE\", \"SALARY_ACCOUNT\", \"CITY\", \"DOB\", \"EMPLOYER_NAME\",\"YEAR\",\"QUARTER\",\"MONTH\"]]\n",
    "data = df.drop([\"ID\", \"LEAD_CREATION_DATE\", \"DEVICE_TYPE\", \"SALARY_ACCOUNT\", \"CITY\", \"DOB\", \"EMPLOYER_NAME\",\"YEAR\",\"QUARTER\",\"MONTH\"], axis=1)"
   ]
  },
  {
   "cell_type": "code",
   "execution_count": 5,
   "id": "c4ce2e88",
   "metadata": {},
   "outputs": [
    {
     "data": {
      "text/html": [
       "<div>\n",
       "<style scoped>\n",
       "    .dataframe tbody tr th:only-of-type {\n",
       "        vertical-align: middle;\n",
       "    }\n",
       "\n",
       "    .dataframe tbody tr th {\n",
       "        vertical-align: top;\n",
       "    }\n",
       "\n",
       "    .dataframe thead th {\n",
       "        text-align: right;\n",
       "    }\n",
       "</style>\n",
       "<table border=\"1\" class=\"dataframe\">\n",
       "  <thead>\n",
       "    <tr style=\"text-align: right;\">\n",
       "      <th></th>\n",
       "      <th>GENDER</th>\n",
       "      <th>STATE</th>\n",
       "      <th>AGE</th>\n",
       "      <th>MONTHLY_INCOME</th>\n",
       "      <th>LOAN_AMOUNT_APPLIED</th>\n",
       "      <th>LOAN_TENURE_APPLIED</th>\n",
       "      <th>EXISTING_EMI</th>\n",
       "      <th>MOBILE_VERIFIED</th>\n",
       "      <th>FILLED_FORM</th>\n",
       "      <th>VAR2</th>\n",
       "      <th>SOURCE</th>\n",
       "      <th>VAR4</th>\n",
       "      <th>VAR5</th>\n",
       "      <th>VAR1</th>\n",
       "      <th>DISBURSED</th>\n",
       "    </tr>\n",
       "  </thead>\n",
       "  <tbody>\n",
       "    <tr>\n",
       "      <th>0</th>\n",
       "      <td>Male</td>\n",
       "      <td>New York</td>\n",
       "      <td>36</td>\n",
       "      <td>1313.242865</td>\n",
       "      <td>900000.0</td>\n",
       "      <td>3.0</td>\n",
       "      <td>139.0</td>\n",
       "      <td>Y</td>\n",
       "      <td>Y</td>\n",
       "      <td>E</td>\n",
       "      <td>S127</td>\n",
       "      <td>7.0</td>\n",
       "      <td>14</td>\n",
       "      <td>HBXX</td>\n",
       "      <td>1.0</td>\n",
       "    </tr>\n",
       "    <tr>\n",
       "      <th>1</th>\n",
       "      <td>Male</td>\n",
       "      <td>New York</td>\n",
       "      <td>32</td>\n",
       "      <td>1270.880192</td>\n",
       "      <td>900000.0</td>\n",
       "      <td>3.0</td>\n",
       "      <td>0.0</td>\n",
       "      <td>Y</td>\n",
       "      <td>N</td>\n",
       "      <td>G</td>\n",
       "      <td>S151</td>\n",
       "      <td>5.0</td>\n",
       "      <td>10</td>\n",
       "      <td>HBXB</td>\n",
       "      <td>1.0</td>\n",
       "    </tr>\n",
       "    <tr>\n",
       "      <th>2</th>\n",
       "      <td>Male</td>\n",
       "      <td>New York</td>\n",
       "      <td>28</td>\n",
       "      <td>500.000000</td>\n",
       "      <td>10000.0</td>\n",
       "      <td>0.0</td>\n",
       "      <td>100.0</td>\n",
       "      <td>Y</td>\n",
       "      <td>N</td>\n",
       "      <td>B</td>\n",
       "      <td>S144</td>\n",
       "      <td>4.0</td>\n",
       "      <td>11</td>\n",
       "      <td>HBXC</td>\n",
       "      <td>0.0</td>\n",
       "    </tr>\n",
       "    <tr>\n",
       "      <th>3</th>\n",
       "      <td>Male</td>\n",
       "      <td>New York</td>\n",
       "      <td>35</td>\n",
       "      <td>1497.000000</td>\n",
       "      <td>900000.0</td>\n",
       "      <td>3.0</td>\n",
       "      <td>140.0</td>\n",
       "      <td>Y</td>\n",
       "      <td>Y</td>\n",
       "      <td>B</td>\n",
       "      <td>S133</td>\n",
       "      <td>4.0</td>\n",
       "      <td>0</td>\n",
       "      <td>HAXB</td>\n",
       "      <td>1.0</td>\n",
       "    </tr>\n",
       "    <tr>\n",
       "      <th>4</th>\n",
       "      <td>Female</td>\n",
       "      <td>New York</td>\n",
       "      <td>28</td>\n",
       "      <td>903.000000</td>\n",
       "      <td>700000.0</td>\n",
       "      <td>3.0</td>\n",
       "      <td>0.0</td>\n",
       "      <td>N</td>\n",
       "      <td>Y</td>\n",
       "      <td>B</td>\n",
       "      <td>S160</td>\n",
       "      <td>1.0</td>\n",
       "      <td>3</td>\n",
       "      <td>HBXX</td>\n",
       "      <td>0.0</td>\n",
       "    </tr>\n",
       "  </tbody>\n",
       "</table>\n",
       "</div>"
      ],
      "text/plain": [
       "   GENDER     STATE  AGE  MONTHLY_INCOME  LOAN_AMOUNT_APPLIED  \\\n",
       "0    Male  New York   36     1313.242865             900000.0   \n",
       "1    Male  New York   32     1270.880192             900000.0   \n",
       "2    Male  New York   28      500.000000              10000.0   \n",
       "3    Male  New York   35     1497.000000             900000.0   \n",
       "4  Female  New York   28      903.000000             700000.0   \n",
       "\n",
       "   LOAN_TENURE_APPLIED  EXISTING_EMI MOBILE_VERIFIED FILLED_FORM VAR2 SOURCE  \\\n",
       "0                  3.0         139.0               Y           Y    E   S127   \n",
       "1                  3.0           0.0               Y           N    G   S151   \n",
       "2                  0.0         100.0               Y           N    B   S144   \n",
       "3                  3.0         140.0               Y           Y    B   S133   \n",
       "4                  3.0           0.0               N           Y    B   S160   \n",
       "\n",
       "   VAR4  VAR5  VAR1  DISBURSED  \n",
       "0   7.0    14  HBXX        1.0  \n",
       "1   5.0    10  HBXB        1.0  \n",
       "2   4.0    11  HBXC        0.0  \n",
       "3   4.0     0  HAXB        1.0  \n",
       "4   1.0     3  HBXX        0.0  "
      ]
     },
     "execution_count": 5,
     "metadata": {},
     "output_type": "execute_result"
    }
   ],
   "source": [
    "data.head()"
   ]
  },
  {
   "cell_type": "code",
   "execution_count": 6,
   "id": "06510704",
   "metadata": {},
   "outputs": [],
   "source": [
    "# data = data.dropna()"
   ]
  },
  {
   "cell_type": "code",
   "execution_count": 7,
   "id": "7bbc818f",
   "metadata": {},
   "outputs": [],
   "source": [
    "cat_col = []\n",
    "num_col = []\n",
    "target = \"DISBURSED\"\n",
    "\n",
    "for k, v in dict(data.dtypes).items():\n",
    "    if k != target:\n",
    "        if v == \"O\":\n",
    "            cat_col.append(k)\n",
    "        else:\n",
    "            num_col.append(k)"
   ]
  },
  {
   "cell_type": "markdown",
   "id": "a03bc9ca",
   "metadata": {},
   "source": [
    "# Train Test Split"
   ]
  },
  {
   "cell_type": "code",
   "execution_count": 8,
   "id": "d3ded7fa",
   "metadata": {},
   "outputs": [],
   "source": [
    "used_cols = [c for c in data.columns.tolist() if c not in [target]]\n",
    "X = data[used_cols]\n",
    "y = data[target]\n",
    "X_train, X_test, y_train, y_test = train_test_split(X, y, test_size=0.2, random_state=42)"
   ]
  },
  {
   "cell_type": "markdown",
   "id": "0ededfc5",
   "metadata": {},
   "source": [
    "# Building and Training Model Pipeline"
   ]
  },
  {
   "cell_type": "code",
   "execution_count": 9,
   "id": "db443bd7",
   "metadata": {},
   "outputs": [],
   "source": [
    "# making pipeline\n",
    "scaler = RobustScaler()\n",
    "encoder = OneHotEncoder(handle_unknown=\"ignore\")\n",
    "# putting numeric columns to scaler and categorical to encoder\n",
    "num_transformer = make_pipeline(scaler)\n",
    "cat_transformer = make_pipeline(encoder)\n",
    "\n",
    "# getting together our scaler and encoder with preprocessor\n",
    "preprocessor = ColumnTransformer(\n",
    "      transformers=[('num', num_transformer, num_col),\n",
    "                    ('cat', cat_transformer, cat_col)])"
   ]
  },
  {
   "cell_type": "code",
   "execution_count": 10,
   "id": "497e6ad7",
   "metadata": {},
   "outputs": [
    {
     "data": {
      "text/html": [
       "<style>#sk-container-id-1 {color: black;}#sk-container-id-1 pre{padding: 0;}#sk-container-id-1 div.sk-toggleable {background-color: white;}#sk-container-id-1 label.sk-toggleable__label {cursor: pointer;display: block;width: 100%;margin-bottom: 0;padding: 0.3em;box-sizing: border-box;text-align: center;}#sk-container-id-1 label.sk-toggleable__label-arrow:before {content: \"▸\";float: left;margin-right: 0.25em;color: #696969;}#sk-container-id-1 label.sk-toggleable__label-arrow:hover:before {color: black;}#sk-container-id-1 div.sk-estimator:hover label.sk-toggleable__label-arrow:before {color: black;}#sk-container-id-1 div.sk-toggleable__content {max-height: 0;max-width: 0;overflow: hidden;text-align: left;background-color: #f0f8ff;}#sk-container-id-1 div.sk-toggleable__content pre {margin: 0.2em;color: black;border-radius: 0.25em;background-color: #f0f8ff;}#sk-container-id-1 input.sk-toggleable__control:checked~div.sk-toggleable__content {max-height: 200px;max-width: 100%;overflow: auto;}#sk-container-id-1 input.sk-toggleable__control:checked~label.sk-toggleable__label-arrow:before {content: \"▾\";}#sk-container-id-1 div.sk-estimator input.sk-toggleable__control:checked~label.sk-toggleable__label {background-color: #d4ebff;}#sk-container-id-1 div.sk-label input.sk-toggleable__control:checked~label.sk-toggleable__label {background-color: #d4ebff;}#sk-container-id-1 input.sk-hidden--visually {border: 0;clip: rect(1px 1px 1px 1px);clip: rect(1px, 1px, 1px, 1px);height: 1px;margin: -1px;overflow: hidden;padding: 0;position: absolute;width: 1px;}#sk-container-id-1 div.sk-estimator {font-family: monospace;background-color: #f0f8ff;border: 1px dotted black;border-radius: 0.25em;box-sizing: border-box;margin-bottom: 0.5em;}#sk-container-id-1 div.sk-estimator:hover {background-color: #d4ebff;}#sk-container-id-1 div.sk-parallel-item::after {content: \"\";width: 100%;border-bottom: 1px solid gray;flex-grow: 1;}#sk-container-id-1 div.sk-label:hover label.sk-toggleable__label {background-color: #d4ebff;}#sk-container-id-1 div.sk-serial::before {content: \"\";position: absolute;border-left: 1px solid gray;box-sizing: border-box;top: 0;bottom: 0;left: 50%;z-index: 0;}#sk-container-id-1 div.sk-serial {display: flex;flex-direction: column;align-items: center;background-color: white;padding-right: 0.2em;padding-left: 0.2em;position: relative;}#sk-container-id-1 div.sk-item {position: relative;z-index: 1;}#sk-container-id-1 div.sk-parallel {display: flex;align-items: stretch;justify-content: center;background-color: white;position: relative;}#sk-container-id-1 div.sk-item::before, #sk-container-id-1 div.sk-parallel-item::before {content: \"\";position: absolute;border-left: 1px solid gray;box-sizing: border-box;top: 0;bottom: 0;left: 50%;z-index: -1;}#sk-container-id-1 div.sk-parallel-item {display: flex;flex-direction: column;z-index: 1;position: relative;background-color: white;}#sk-container-id-1 div.sk-parallel-item:first-child::after {align-self: flex-end;width: 50%;}#sk-container-id-1 div.sk-parallel-item:last-child::after {align-self: flex-start;width: 50%;}#sk-container-id-1 div.sk-parallel-item:only-child::after {width: 0;}#sk-container-id-1 div.sk-dashed-wrapped {border: 1px dashed gray;margin: 0 0.4em 0.5em 0.4em;box-sizing: border-box;padding-bottom: 0.4em;background-color: white;}#sk-container-id-1 div.sk-label label {font-family: monospace;font-weight: bold;display: inline-block;line-height: 1.2em;}#sk-container-id-1 div.sk-label-container {text-align: center;}#sk-container-id-1 div.sk-container {/* jupyter's `normalize.less` sets `[hidden] { display: none; }` but bootstrap.min.css set `[hidden] { display: none !important; }` so we also need the `!important` here to be able to override the default hidden behavior on the sphinx rendered scikit-learn.org. See: https://github.com/scikit-learn/scikit-learn/issues/21755 */display: inline-block !important;position: relative;}#sk-container-id-1 div.sk-text-repr-fallback {display: none;}</style><div id=\"sk-container-id-1\" class=\"sk-top-container\"><div class=\"sk-text-repr-fallback\"><pre>Pipeline(steps=[(&#x27;columntransformer&#x27;,\n",
       "                 ColumnTransformer(transformers=[(&#x27;num&#x27;,\n",
       "                                                  Pipeline(steps=[(&#x27;robustscaler&#x27;,\n",
       "                                                                   RobustScaler())]),\n",
       "                                                  [&#x27;AGE&#x27;, &#x27;MONTHLY_INCOME&#x27;,\n",
       "                                                   &#x27;LOAN_AMOUNT_APPLIED&#x27;,\n",
       "                                                   &#x27;LOAN_TENURE_APPLIED&#x27;,\n",
       "                                                   &#x27;EXISTING_EMI&#x27;, &#x27;VAR4&#x27;,\n",
       "                                                   &#x27;VAR5&#x27;]),\n",
       "                                                 (&#x27;cat&#x27;,\n",
       "                                                  Pipeline(steps=[(&#x27;onehotencoder&#x27;,\n",
       "                                                                   OneHotEncoder(handle_unknown=&#x27;ignore&#x27;))]),\n",
       "                                                  [&#x27;GENDER&#x27;, &#x27;STATE&#x27;,\n",
       "                                                   &#x27;MOBILE_VERIFIED&#x27;,\n",
       "                                                   &#x27;FILLED_FORM&#x27;, &#x27;VAR2&#x27;,\n",
       "                                                   &#x27;SOURCE&#x27;, &#x27;VAR1&#x27;])])),\n",
       "                (&#x27;randomforestclassifier&#x27;,\n",
       "                 RandomForestClassifier(max_depth=8, max_samples=0.6,\n",
       "                                        n_estimators=500, random_state=25))])</pre><b>In a Jupyter environment, please rerun this cell to show the HTML representation or trust the notebook. <br />On GitHub, the HTML representation is unable to render, please try loading this page with nbviewer.org.</b></div><div class=\"sk-container\" hidden><div class=\"sk-item sk-dashed-wrapped\"><div class=\"sk-label-container\"><div class=\"sk-label sk-toggleable\"><input class=\"sk-toggleable__control sk-hidden--visually\" id=\"sk-estimator-id-1\" type=\"checkbox\" ><label for=\"sk-estimator-id-1\" class=\"sk-toggleable__label sk-toggleable__label-arrow\">Pipeline</label><div class=\"sk-toggleable__content\"><pre>Pipeline(steps=[(&#x27;columntransformer&#x27;,\n",
       "                 ColumnTransformer(transformers=[(&#x27;num&#x27;,\n",
       "                                                  Pipeline(steps=[(&#x27;robustscaler&#x27;,\n",
       "                                                                   RobustScaler())]),\n",
       "                                                  [&#x27;AGE&#x27;, &#x27;MONTHLY_INCOME&#x27;,\n",
       "                                                   &#x27;LOAN_AMOUNT_APPLIED&#x27;,\n",
       "                                                   &#x27;LOAN_TENURE_APPLIED&#x27;,\n",
       "                                                   &#x27;EXISTING_EMI&#x27;, &#x27;VAR4&#x27;,\n",
       "                                                   &#x27;VAR5&#x27;]),\n",
       "                                                 (&#x27;cat&#x27;,\n",
       "                                                  Pipeline(steps=[(&#x27;onehotencoder&#x27;,\n",
       "                                                                   OneHotEncoder(handle_unknown=&#x27;ignore&#x27;))]),\n",
       "                                                  [&#x27;GENDER&#x27;, &#x27;STATE&#x27;,\n",
       "                                                   &#x27;MOBILE_VERIFIED&#x27;,\n",
       "                                                   &#x27;FILLED_FORM&#x27;, &#x27;VAR2&#x27;,\n",
       "                                                   &#x27;SOURCE&#x27;, &#x27;VAR1&#x27;])])),\n",
       "                (&#x27;randomforestclassifier&#x27;,\n",
       "                 RandomForestClassifier(max_depth=8, max_samples=0.6,\n",
       "                                        n_estimators=500, random_state=25))])</pre></div></div></div><div class=\"sk-serial\"><div class=\"sk-item sk-dashed-wrapped\"><div class=\"sk-label-container\"><div class=\"sk-label sk-toggleable\"><input class=\"sk-toggleable__control sk-hidden--visually\" id=\"sk-estimator-id-2\" type=\"checkbox\" ><label for=\"sk-estimator-id-2\" class=\"sk-toggleable__label sk-toggleable__label-arrow\">columntransformer: ColumnTransformer</label><div class=\"sk-toggleable__content\"><pre>ColumnTransformer(transformers=[(&#x27;num&#x27;,\n",
       "                                 Pipeline(steps=[(&#x27;robustscaler&#x27;,\n",
       "                                                  RobustScaler())]),\n",
       "                                 [&#x27;AGE&#x27;, &#x27;MONTHLY_INCOME&#x27;,\n",
       "                                  &#x27;LOAN_AMOUNT_APPLIED&#x27;, &#x27;LOAN_TENURE_APPLIED&#x27;,\n",
       "                                  &#x27;EXISTING_EMI&#x27;, &#x27;VAR4&#x27;, &#x27;VAR5&#x27;]),\n",
       "                                (&#x27;cat&#x27;,\n",
       "                                 Pipeline(steps=[(&#x27;onehotencoder&#x27;,\n",
       "                                                  OneHotEncoder(handle_unknown=&#x27;ignore&#x27;))]),\n",
       "                                 [&#x27;GENDER&#x27;, &#x27;STATE&#x27;, &#x27;MOBILE_VERIFIED&#x27;,\n",
       "                                  &#x27;FILLED_FORM&#x27;, &#x27;VAR2&#x27;, &#x27;SOURCE&#x27;, &#x27;VAR1&#x27;])])</pre></div></div></div><div class=\"sk-parallel\"><div class=\"sk-parallel-item\"><div class=\"sk-item\"><div class=\"sk-label-container\"><div class=\"sk-label sk-toggleable\"><input class=\"sk-toggleable__control sk-hidden--visually\" id=\"sk-estimator-id-3\" type=\"checkbox\" ><label for=\"sk-estimator-id-3\" class=\"sk-toggleable__label sk-toggleable__label-arrow\">num</label><div class=\"sk-toggleable__content\"><pre>[&#x27;AGE&#x27;, &#x27;MONTHLY_INCOME&#x27;, &#x27;LOAN_AMOUNT_APPLIED&#x27;, &#x27;LOAN_TENURE_APPLIED&#x27;, &#x27;EXISTING_EMI&#x27;, &#x27;VAR4&#x27;, &#x27;VAR5&#x27;]</pre></div></div></div><div class=\"sk-serial\"><div class=\"sk-item\"><div class=\"sk-serial\"><div class=\"sk-item\"><div class=\"sk-estimator sk-toggleable\"><input class=\"sk-toggleable__control sk-hidden--visually\" id=\"sk-estimator-id-4\" type=\"checkbox\" ><label for=\"sk-estimator-id-4\" class=\"sk-toggleable__label sk-toggleable__label-arrow\">RobustScaler</label><div class=\"sk-toggleable__content\"><pre>RobustScaler()</pre></div></div></div></div></div></div></div></div><div class=\"sk-parallel-item\"><div class=\"sk-item\"><div class=\"sk-label-container\"><div class=\"sk-label sk-toggleable\"><input class=\"sk-toggleable__control sk-hidden--visually\" id=\"sk-estimator-id-5\" type=\"checkbox\" ><label for=\"sk-estimator-id-5\" class=\"sk-toggleable__label sk-toggleable__label-arrow\">cat</label><div class=\"sk-toggleable__content\"><pre>[&#x27;GENDER&#x27;, &#x27;STATE&#x27;, &#x27;MOBILE_VERIFIED&#x27;, &#x27;FILLED_FORM&#x27;, &#x27;VAR2&#x27;, &#x27;SOURCE&#x27;, &#x27;VAR1&#x27;]</pre></div></div></div><div class=\"sk-serial\"><div class=\"sk-item\"><div class=\"sk-serial\"><div class=\"sk-item\"><div class=\"sk-estimator sk-toggleable\"><input class=\"sk-toggleable__control sk-hidden--visually\" id=\"sk-estimator-id-6\" type=\"checkbox\" ><label for=\"sk-estimator-id-6\" class=\"sk-toggleable__label sk-toggleable__label-arrow\">OneHotEncoder</label><div class=\"sk-toggleable__content\"><pre>OneHotEncoder(handle_unknown=&#x27;ignore&#x27;)</pre></div></div></div></div></div></div></div></div></div></div><div class=\"sk-item\"><div class=\"sk-estimator sk-toggleable\"><input class=\"sk-toggleable__control sk-hidden--visually\" id=\"sk-estimator-id-7\" type=\"checkbox\" ><label for=\"sk-estimator-id-7\" class=\"sk-toggleable__label sk-toggleable__label-arrow\">RandomForestClassifier</label><div class=\"sk-toggleable__content\"><pre>RandomForestClassifier(max_depth=8, max_samples=0.6, n_estimators=500,\n",
       "                       random_state=25)</pre></div></div></div></div></div></div></div>"
      ],
      "text/plain": [
       "Pipeline(steps=[('columntransformer',\n",
       "                 ColumnTransformer(transformers=[('num',\n",
       "                                                  Pipeline(steps=[('robustscaler',\n",
       "                                                                   RobustScaler())]),\n",
       "                                                  ['AGE', 'MONTHLY_INCOME',\n",
       "                                                   'LOAN_AMOUNT_APPLIED',\n",
       "                                                   'LOAN_TENURE_APPLIED',\n",
       "                                                   'EXISTING_EMI', 'VAR4',\n",
       "                                                   'VAR5']),\n",
       "                                                 ('cat',\n",
       "                                                  Pipeline(steps=[('onehotencoder',\n",
       "                                                                   OneHotEncoder(handle_unknown='ignore'))]),\n",
       "                                                  ['GENDER', 'STATE',\n",
       "                                                   'MOBILE_VERIFIED',\n",
       "                                                   'FILLED_FORM', 'VAR2',\n",
       "                                                   'SOURCE', 'VAR1'])])),\n",
       "                ('randomforestclassifier',\n",
       "                 RandomForestClassifier(max_depth=8, max_samples=0.6,\n",
       "                                        n_estimators=500, random_state=25))])"
      ]
     },
     "execution_count": 10,
     "metadata": {},
     "output_type": "execute_result"
    }
   ],
   "source": [
    "# choosing model\n",
    "model_name = RandomForestClassifier(n_estimators = 500, max_depth=8, random_state=25, max_samples=0.6)\n",
    "\n",
    "# giving all values to pipeline\n",
    "pipe = make_pipeline(preprocessor,model_name)\n",
    "pipe.fit(X_train, y_train)"
   ]
  },
  {
   "cell_type": "markdown",
   "id": "4163de29",
   "metadata": {},
   "source": [
    "# Prediction"
   ]
  },
  {
   "cell_type": "code",
   "execution_count": 11,
   "id": "f0494cfa",
   "metadata": {},
   "outputs": [],
   "source": [
    "# make predictions on test set\n",
    "y_pred = pipe.predict(X_test)\n",
    "y_prob = pipe.predict_proba(X_test)\n"
   ]
  },
  {
   "cell_type": "markdown",
   "id": "affe46c2",
   "metadata": {},
   "source": [
    "# Model Evaluation"
   ]
  },
  {
   "cell_type": "code",
   "execution_count": 12,
   "id": "a339d512",
   "metadata": {},
   "outputs": [],
   "source": [
    "# importing Libraries \n",
    "from sklearn.metrics import confusion_matrix, accuracy_score, precision_score, recall_score, f1_score, roc_curve, auc"
   ]
  },
  {
   "cell_type": "code",
   "execution_count": 13,
   "id": "d0676a1e",
   "metadata": {},
   "outputs": [
    {
     "name": "stdout",
     "output_type": "stream",
     "text": [
      "Confusion Matrix:\n",
      "[[41056  3006]\n",
      " [ 7168 22458]]\n",
      "Accuracy: 0.86\n",
      "Precision: 0.88\n",
      "Recall: 0.76\n",
      "F1-Score: 0.82\n",
      "ROC AUC: 0.84\n"
     ]
    }
   ],
   "source": [
    "# Confusion Matrix \n",
    "cm = confusion_matrix(y_test, y_pred) \n",
    "# Accuracy \n",
    "accuracy = accuracy_score(y_test, y_pred) \n",
    "# Precision \n",
    "precision = precision_score(y_test, y_pred) \n",
    "# Recall \n",
    "recall = recall_score(y_test, y_pred) \n",
    "# F1-Score \n",
    "f1 = f1_score(y_test, y_pred) \n",
    "# ROC Curve and AUC \n",
    "fpr, tpr, thresholds = roc_curve(y_test, y_pred) \n",
    "roc_auc = auc(fpr, tpr) \n",
    "  \n",
    "print(\"Confusion Matrix:\") \n",
    "print(cm) \n",
    "print(\"Accuracy:\", round(accuracy,2)) \n",
    "print(\"Precision:\", round(precision,2)) \n",
    "print(\"Recall:\", round(recall,2)) \n",
    "print(\"F1-Score:\", round(f1,2)) \n",
    "print(\"ROC AUC:\", round(roc_auc,2)) "
   ]
  },
  {
   "cell_type": "code",
   "execution_count": 14,
   "id": "c6aaadc6",
   "metadata": {},
   "outputs": [
    {
     "name": "stderr",
     "output_type": "stream",
     "text": [
      "Matplotlib created a temporary cache directory at /tmp/matplotlib-tk2i38zm because the default path (/home/mosaic-ai/.cache/matplotlib) is not a writable directory; it is highly recommended to set the MPLCONFIGDIR environment variable to a writable directory, in particular to speed up the import of Matplotlib and to better support multiprocessing.\n"
     ]
    },
    {
     "data": {
      "image/png": "[encoded data removed]",
      "text/plain": [
       "<Figure size 432x288 with 1 Axes>"
      ]
     },
     "metadata": {
      "needs_background": "light"
     },
     "output_type": "display_data"
    }
   ],
   "source": [
    "\n",
    "import matplotlib.pyplot as plt \n",
    "  \n",
    "# Plot ROC curve \n",
    "plt.figure() \n",
    "  \n",
    "# Plot the ROC curve with a label displaying the ROC AUC score \n",
    "plt.plot(fpr, tpr, color='darkorange', lw=2, \n",
    "         label='ROC curve (area = %0.2f)' % roc_auc) \n",
    "  \n",
    "# Plot a dashed diagonal line for reference \n",
    "plt.plot([0, 1], [0, 1], color='navy', lw=2, linestyle='--') \n",
    "  \n",
    "# Set the x and y-axis limits \n",
    "plt.xlim([0.0, 1.0]) \n",
    "plt.ylim([0.0, 1.05]) \n",
    "  \n",
    "# Label the x and y-axes \n",
    "plt.xlabel('False Positive Rate') \n",
    "plt.ylabel('True Positive Rate') \n",
    "  \n",
    "# Set the title of the plot \n",
    "plt.title('Receiver Operating Characteristic') \n",
    "  \n",
    "# Add a legend to the plot \n",
    "plt.legend(loc='lower right') \n",
    "  \n",
    "# Display the ROC curve plot \n",
    "plt.show() "
   ]
  },
  {
   "cell_type": "markdown",
   "id": "24c1d990",
   "metadata": {},
   "source": [
    "# Model Registrartion"
   ]
  },
  {
   "cell_type": "code",
   "execution_count": 15,
   "id": "b80a1c14",
   "metadata": {
    "scrolled": true
   },
   "outputs": [],
   "source": [
    "# !pip install fosforml"
   ]
  },
  {
   "cell_type": "code",
   "execution_count": 11,
   "id": "cd017d74",
   "metadata": {},
   "outputs": [],
   "source": [
    "from fosforml import *\n",
    "from fosforml.constants import MLModelFlavours\n",
    "import requests"
   ]
  },
  {
   "cell_type": "code",
   "execution_count": 46,
   "id": "8fd31b59",
   "metadata": {},
   "outputs": [],
   "source": [
    "@scoring_func\n",
    "def score(model, request):\n",
    "    payload_dict = eval(request.json[\"payload\"])\n",
    "    data = pd.DataFrame.from_dict(payload_dict)\n",
    "    result = pipe.predict(data)\n",
    "    prediction = str(pd.DataFrame({\"prediction\":result}).to_dict())\n",
    "    return prediction"
   ]
  },
  {
   "cell_type": "code",
   "execution_count": 52,
   "id": "a92e35ee",
   "metadata": {},
   "outputs": [],
   "source": [
    "payload = X_test.head(100).to_dict()\n",
    "req = requests.Request()\n",
    "req.json = {\"payload\":str(payload)}\n",
    "y = req\n",
    "yo = score(pipe, y)\n",
    "# yo"
   ]
  },
  {
   "cell_type": "code",
   "execution_count": 51,
   "id": "fa2f7f27",
   "metadata": {
    "scrolled": true
   },
   "outputs": [
    {
     "name": "stdout",
     "output_type": "stream",
     "text": [
      "Calculating build time metrics\n",
      "\n",
      "Progress: ██████████████████████████████████████████████████████████████████████ 100.0%\n"
     ]
    },
    {
     "data": {
      "application/vnd.jupyter.widget-view+json": {
       "model_id": "3f77744c9beb4f5e8781868ded48228a",
       "version_major": 2,
       "version_minor": 0
      },
      "text/plain": [
       "VBox(children=(HTML(value='<style>.grad_1{background: #2468a4;} .grad_2{ color:white; background: #2468a4;}</s…"
      ]
     },
     "metadata": {},
     "output_type": "display_data"
    }
   ],
   "source": [
    "## registering the model in Fosfor.\n",
    "model_reg = register_model(pipe,\n",
    "               score, \n",
    "               name=\"Lead_Conversion_model\", \n",
    "               description=\"Lead_conversion_RandomForest_Model\",\n",
    "               flavour=MLModelFlavours.sklearn,\n",
    "               model_type=\"classification\",\n",
    "               init_script=\"\\\\n pip install fosforml \\\\n pip install fosforio[snowflake] \\\\n pip install sklearn\\\\n pip install snowflake-connector-python[pandas]\",\n",
    "               y_true=y_test,\n",
    "               y_pred=y_pred,\n",
    "               prob=y_prob,\n",
    "               features=X_train.columns,\n",
    "               input_type=\"json\", \n",
    "               explain_ai=True,\n",
    "               x_train=X_train, \n",
    "               x_test=X_test, \n",
    "               y_train=y_train,\n",
    "               y_test=y_test,\n",
    "               feature_names=X_train.columns.tolist(),\n",
    "               original_features=X_train.columns.tolist(),\n",
    "               feature_ids=X_train.columns,\n",
    "               kyd=True, kyd_score = True)"
   ]
  },
  {
   "cell_type": "markdown",
   "id": "c90a20be",
   "metadata": {},
   "source": [
    "# Predicted File to snowflake "
   ]
  },
  {
   "cell_type": "code",
   "execution_count": 15,
   "id": "fca58545",
   "metadata": {},
   "outputs": [
    {
     "name": "stdout",
     "output_type": "stream",
     "text": [
      "connection successful!\n"
     ]
    }
   ],
   "source": [
    "import os\n",
    "config = configparser.ConfigParser()\n",
    "config.read(\"credentials.ini\")\n",
    "\n",
    "connection_parameters = {\n",
    "    \"user\": f'{config[\"Snowflake\"][\"user\"]}',\n",
    "    \"password\": os.getenv('Snowflake_password'),\n",
    "    \"account\": f'{config[\"Snowflake\"][\"account\"]}',\n",
    "    \"WAREHOUSE\": f'{config[\"Snowflake\"][\"WAREHOUSE\"]}',\n",
    "    \"DATABASE\": f'{config[\"Snowflake\"][\"DATABASE\"]}',\n",
    "    \"SCHEMA\": f'{config[\"Snowflake\"][\"SCHEMA\"]}'\n",
    "}\n",
    "\n",
    "\n",
    "def snowflake_connector(conn):\n",
    "    try:\n",
    "        session = Session.builder.configs(conn).create()\n",
    "        print(\"connection successful!\")\n",
    "    except:\n",
    "        raise ValueError(\"error while connecting with db\")\n",
    "    return session\n",
    "\n",
    "session = snowflake_connector(connection_parameters)"
   ]
  },
  {
   "cell_type": "code",
   "execution_count": 16,
   "id": "257fb1e4",
   "metadata": {},
   "outputs": [],
   "source": [
    "data[\"PREDICTION\"] = pipe.predict(data)"
   ]
  },
  {
   "cell_type": "code",
   "execution_count": 43,
   "id": "e379f06d",
   "metadata": {},
   "outputs": [],
   "source": [
    "data[[\"ID\", \"LEAD_CREATION_DATE\", \"DEVICE_TYPE\", \"SALARY_ACCOUNT\", \"CITY\", \"DOB\", \"EMPLOYER_NAME\",\"YEAR\",\"QUARTER\",\"MONTH\"]] = temp_data[[\"ID\", \"LEAD_CREATION_DATE\", \"DEVICE_TYPE\", \"SALARY_ACCOUNT\", \"CITY\", \"DOB\", \"EMPLOYER_NAME\",\"YEAR\",\"QUARTER\",\"MONTH\"]] "
   ]
  },
  {
   "cell_type": "code",
   "execution_count": 44,
   "id": "2f46e815",
   "metadata": {},
   "outputs": [],
   "source": [
    "data[\"QUARTER\"] = data[\"QUARTER\"].apply(lambda x: \"Q\"+str(x))"
   ]
  },
  {
   "cell_type": "code",
   "execution_count": 45,
   "id": "c0ef29ae",
   "metadata": {},
   "outputs": [],
   "source": [
    "def change_date_format(x):\n",
    "    temp = x.split(\"/\")\n",
    "    temp = temp[::-1]\n",
    "    return \"-\".join(temp)\n",
    "\n",
    "data[\"LEAD_CREATION_DATE\"] = data[\"LEAD_CREATION_DATE\"].apply(change_date_format)\n",
    "data[\"DOB\"] = data[\"DOB\"].apply(change_date_format)\n"
   ]
  },
  {
   "cell_type": "code",
   "execution_count": 46,
   "id": "da6352e3",
   "metadata": {},
   "outputs": [],
   "source": [
    "def first_of_month(x):\n",
    "    temp = x.split(\"-\")\n",
    "    temp[-1] = \"1\"\n",
    "    return \"-\".join(temp)\n",
    "data[\"LEAD_CREATION_DATE\"] = data[\"LEAD_CREATION_DATE\"].apply(first_of_month)"
   ]
  },
  {
   "cell_type": "code",
   "execution_count": 47,
   "id": "3843e15f",
   "metadata": {},
   "outputs": [
    {
     "data": {
      "text/plain": [
       "26"
      ]
     },
     "execution_count": 47,
     "metadata": {},
     "output_type": "execute_result"
    }
   ],
   "source": [
    "len(data.columns)"
   ]
  },
  {
   "cell_type": "code",
   "execution_count": 48,
   "id": "0fa152bf",
   "metadata": {},
   "outputs": [
    {
     "data": {
      "text/plain": [
       "GENDER                  object\n",
       "STATE                   object\n",
       "AGE                       int8\n",
       "MONTHLY_INCOME         float64\n",
       "LOAN_AMOUNT_APPLIED    float64\n",
       "LOAN_TENURE_APPLIED    float64\n",
       "EXISTING_EMI           float64\n",
       "MOBILE_VERIFIED         object\n",
       "FILLED_FORM             object\n",
       "VAR2                    object\n",
       "SOURCE                  object\n",
       "VAR4                   float64\n",
       "VAR5                      int8\n",
       "VAR1                    object\n",
       "DISBURSED              float64\n",
       "PREDICTION             float64\n",
       "ID                      object\n",
       "LEAD_CREATION_DATE      object\n",
       "DEVICE_TYPE             object\n",
       "SALARY_ACCOUNT          object\n",
       "CITY                    object\n",
       "DOB                     object\n",
       "EMPLOYER_NAME           object\n",
       "YEAR                     int16\n",
       "QUARTER                 object\n",
       "MONTH                     int8\n",
       "dtype: object"
      ]
     },
     "execution_count": 48,
     "metadata": {},
     "output_type": "execute_result"
    }
   ],
   "source": [
    "data.dtypes"
   ]
  },
  {
   "cell_type": "code",
   "execution_count": null,
   "id": "42620205",
   "metadata": {},
   "outputs": [],
   "source": [
    "df_snowflake=session.createDataFrame(\n",
    "        data.values.tolist(),\n",
    "        schema=data.columns.tolist())\n",
    "\n",
    "df_snowflake.write.mode(\"overwrite\").save_as_table(\"FDC_BANKING_FS.BFS_LEAD_CONV_SCHEMA.MASTER_DATA\")"
   ]
  }
 ],
 "metadata": {
  "kernelspec": {
   "display_name": "Python 3",
   "language": "python",
   "name": "python3"
  },
  "language_info": {
   "codemirror_mode": {
    "name": "ipython",
    "version": 3
   },
   "file_extension": ".py",
   "mimetype": "text/x-python",
   "name": "python",
   "nbconvert_exporter": "python",
   "pygments_lexer": "ipython3",
   "version": "3.8.18"
  }
 },
 "nbformat": 4,
 "nbformat_minor": 5
}
