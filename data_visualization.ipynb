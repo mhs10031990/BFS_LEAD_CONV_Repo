{
 "cells": [
  {
   "cell_type": "markdown",
   "id": "9801a8bc",
   "metadata": {},
   "source": [
    "# Use LEAD_CONV_Snowpark38_XL Notebook template"
   ]
  },
  {
   "cell_type": "code",
   "execution_count": 1,
   "id": "72d160dd",
   "metadata": {},
   "outputs": [
    {
     "name": "stderr",
     "output_type": "stream",
     "text": [
      "Matplotlib created a temporary cache directory at /tmp/matplotlib-olxr_gp6 because the default path (/home/mosaic-ai/.cache/matplotlib) is not a writable directory; it is highly recommended to set the MPLCONFIGDIR environment variable to a writable directory, in particular to speed up the import of Matplotlib and to better support multiprocessing.\n"
     ]
    }
   ],
   "source": [
    "from snowflake.snowpark import Session\n",
    "from snowflake.connector.pandas_tools import write_pandas\n",
    "\n",
    "# Data Science Libs\n",
    "import numpy as np\n",
    "import pandas as pd\n",
    "import matplotlib.pyplot as plt\n",
    "import seaborn as sns\n",
    "\n",
    "# create_temp_table warning suppresion\n",
    "import warnings; warnings.simplefilter('ignore')"
   ]
  },
  {
   "cell_type": "code",
   "execution_count": 2,
   "id": "19bc60b5",
   "metadata": {},
   "outputs": [
    {
     "name": "stdout",
     "output_type": "stream",
     "text": [
      "Connection manager service url initialised to http://fdc-project-manager:80/project-manager\n",
      "If you need to update its value then update the variable CONNECTION_MANAGER_BASE_URL in os env.\n"
     ]
    }
   ],
   "source": [
    "from fosforio import snowflake"
   ]
  },
  {
   "cell_type": "code",
   "execution_count": 3,
   "id": "39197597",
   "metadata": {},
   "outputs": [
    {
     "name": "stdout",
     "output_type": "stream",
     "text": [
      "User name picked from OS env: manishh.singh@fosfor.com\n",
      "Fetching connections created by manishh.singh@fosfor.com user\n",
      "Connection names fetched ['FDC_SNOWFLAKE', 'FDC_SNOWFLAKE', 'FDC_SNOWFLAKE', 'FDC_Insurance_Snowflake', 'FDC_Banking_FS_Snowflake', 'FDC_Banking_FS_Snowflake', 'FDC_Insurance_Snowflake', 'BFS_LEAD_CONV_CXN'], created by manishh.singh@fosfor.com\n",
      "Exception occurred in getting snowflake connection: 'connectionSources'\n"
     ]
    }
   ],
   "source": [
    "# To get snowflake connection object with a default snowflake connection created by the user, if available.\n",
    "snowflake.get_connection()"
   ]
  },
  {
   "cell_type": "markdown",
   "id": "e0178ffe",
   "metadata": {},
   "source": [
    "# MASTER data"
   ]
  },
  {
   "cell_type": "code",
   "execution_count": 4,
   "id": "dd8c6dde",
   "metadata": {},
   "outputs": [],
   "source": [
    "# To read a specific dataset published from a snowflake connection\n",
    "df = snowflake.get_dataframe(\"MASTER\")"
   ]
  },
  {
   "cell_type": "code",
   "execution_count": 5,
   "id": "2b480806",
   "metadata": {},
   "outputs": [
    {
     "data": {
      "text/plain": [
       "(368494, 25)"
      ]
     },
     "execution_count": 5,
     "metadata": {},
     "output_type": "execute_result"
    }
   ],
   "source": [
    "df.shape"
   ]
  },
  {
   "cell_type": "code",
   "execution_count": 6,
   "id": "95a26d98",
   "metadata": {
    "scrolled": true
   },
   "outputs": [
    {
     "name": "stdout",
     "output_type": "stream",
     "text": [
      "<class 'pandas.core.frame.DataFrame'>\n",
      "RangeIndex: 368494 entries, 0 to 368493\n",
      "Data columns (total 25 columns):\n",
      " #   Column               Non-Null Count   Dtype  \n",
      "---  ------               --------------   -----  \n",
      " 0   ID                   368494 non-null  object \n",
      " 1   GENDER               368494 non-null  object \n",
      " 2   DOB                  368494 non-null  object \n",
      " 3   CITY                 368494 non-null  object \n",
      " 4   STATE                368494 non-null  object \n",
      " 5   AGE                  368494 non-null  int8   \n",
      " 6   MONTHLY_INCOME       368494 non-null  float64\n",
      " 7   EMPLOYER_NAME        368494 non-null  object \n",
      " 8   SALARY_ACCOUNT       368494 non-null  object \n",
      " 9   LOAN_AMOUNT_APPLIED  368438 non-null  float64\n",
      " 10  LOAN_TENURE_APPLIED  368438 non-null  float64\n",
      " 11  EXISTING_EMI         368438 non-null  float64\n",
      " 12  LEAD_CREATION_DATE   368494 non-null  object \n",
      " 13  MONTH                368494 non-null  int8   \n",
      " 14  YEAR                 368494 non-null  int16  \n",
      " 15  QUARTER              368494 non-null  int8   \n",
      " 16  MOBILE_VERIFIED      368494 non-null  object \n",
      " 17  FILLED_FORM          368494 non-null  object \n",
      " 18  DEVICE_TYPE          368494 non-null  object \n",
      " 19  VAR2                 368494 non-null  object \n",
      " 20  SOURCE               368494 non-null  object \n",
      " 21  VAR4                 368494 non-null  float64\n",
      " 22  VAR5                 368494 non-null  int8   \n",
      " 23  VAR1                 368494 non-null  object \n",
      " 24  DISBURSED            368494 non-null  float64\n",
      "dtypes: float64(6), int16(1), int8(4), object(14)\n",
      "memory usage: 58.3+ MB\n"
     ]
    }
   ],
   "source": [
    "df.info()"
   ]
  },
  {
   "cell_type": "code",
   "execution_count": 7,
   "id": "67e6fcb5",
   "metadata": {},
   "outputs": [
    {
     "data": {
      "text/html": [
       "<div>\n",
       "<style scoped>\n",
       "    .dataframe tbody tr th:only-of-type {\n",
       "        vertical-align: middle;\n",
       "    }\n",
       "\n",
       "    .dataframe tbody tr th {\n",
       "        vertical-align: top;\n",
       "    }\n",
       "\n",
       "    .dataframe thead th {\n",
       "        text-align: right;\n",
       "    }\n",
       "</style>\n",
       "<table border=\"1\" class=\"dataframe\">\n",
       "  <thead>\n",
       "    <tr style=\"text-align: right;\">\n",
       "      <th></th>\n",
       "      <th>AGE</th>\n",
       "      <th>MONTHLY_INCOME</th>\n",
       "      <th>LOAN_AMOUNT_APPLIED</th>\n",
       "      <th>LOAN_TENURE_APPLIED</th>\n",
       "      <th>EXISTING_EMI</th>\n",
       "      <th>MONTH</th>\n",
       "      <th>YEAR</th>\n",
       "      <th>QUARTER</th>\n",
       "      <th>VAR4</th>\n",
       "      <th>VAR5</th>\n",
       "      <th>DISBURSED</th>\n",
       "    </tr>\n",
       "  </thead>\n",
       "  <tbody>\n",
       "    <tr>\n",
       "      <th>count</th>\n",
       "      <td>368494.000000</td>\n",
       "      <td>3.684940e+05</td>\n",
       "      <td>3.684380e+05</td>\n",
       "      <td>368438.000000</td>\n",
       "      <td>368438.000000</td>\n",
       "      <td>368494.000000</td>\n",
       "      <td>368494.000000</td>\n",
       "      <td>368494.000000</td>\n",
       "      <td>368494.000000</td>\n",
       "      <td>368494.000000</td>\n",
       "      <td>368494.000000</td>\n",
       "    </tr>\n",
       "    <tr>\n",
       "      <th>mean</th>\n",
       "      <td>35.481783</td>\n",
       "      <td>1.145437e+03</td>\n",
       "      <td>6.862932e+05</td>\n",
       "      <td>3.080198</td>\n",
       "      <td>84.272824</td>\n",
       "      <td>6.448783</td>\n",
       "      <td>2023.139492</td>\n",
       "      <td>2.484673</td>\n",
       "      <td>3.572791</td>\n",
       "      <td>7.931483</td>\n",
       "      <td>0.402747</td>\n",
       "    </tr>\n",
       "    <tr>\n",
       "      <th>std</th>\n",
       "      <td>6.282298</td>\n",
       "      <td>6.276703e+03</td>\n",
       "      <td>3.097598e+05</td>\n",
       "      <td>0.705796</td>\n",
       "      <td>398.089344</td>\n",
       "      <td>3.220255</td>\n",
       "      <td>0.831348</td>\n",
       "      <td>1.051807</td>\n",
       "      <td>1.939919</td>\n",
       "      <td>6.441635</td>\n",
       "      <td>0.490451</td>\n",
       "    </tr>\n",
       "    <tr>\n",
       "      <th>min</th>\n",
       "      <td>25.000000</td>\n",
       "      <td>0.000000e+00</td>\n",
       "      <td>4.000000e-02</td>\n",
       "      <td>0.000000</td>\n",
       "      <td>0.000000</td>\n",
       "      <td>1.000000</td>\n",
       "      <td>2022.000000</td>\n",
       "      <td>1.000000</td>\n",
       "      <td>0.000000</td>\n",
       "      <td>0.000000</td>\n",
       "      <td>0.000000</td>\n",
       "    </tr>\n",
       "    <tr>\n",
       "      <th>25%</th>\n",
       "      <td>30.000000</td>\n",
       "      <td>9.290000e+02</td>\n",
       "      <td>7.000000e+05</td>\n",
       "      <td>3.000000</td>\n",
       "      <td>0.000000</td>\n",
       "      <td>4.000000</td>\n",
       "      <td>2022.000000</td>\n",
       "      <td>2.000000</td>\n",
       "      <td>2.000000</td>\n",
       "      <td>0.000000</td>\n",
       "      <td>0.000000</td>\n",
       "    </tr>\n",
       "    <tr>\n",
       "      <th>50%</th>\n",
       "      <td>35.000000</td>\n",
       "      <td>1.129000e+03</td>\n",
       "      <td>8.000000e+05</td>\n",
       "      <td>3.000000</td>\n",
       "      <td>0.000000</td>\n",
       "      <td>6.000000</td>\n",
       "      <td>2023.000000</td>\n",
       "      <td>2.000000</td>\n",
       "      <td>3.000000</td>\n",
       "      <td>10.000000</td>\n",
       "      <td>0.000000</td>\n",
       "    </tr>\n",
       "    <tr>\n",
       "      <th>75%</th>\n",
       "      <td>41.000000</td>\n",
       "      <td>1.297809e+03</td>\n",
       "      <td>9.000000e+05</td>\n",
       "      <td>3.000000</td>\n",
       "      <td>132.000000</td>\n",
       "      <td>9.000000</td>\n",
       "      <td>2024.000000</td>\n",
       "      <td>3.000000</td>\n",
       "      <td>5.000000</td>\n",
       "      <td>14.000000</td>\n",
       "      <td>1.000000</td>\n",
       "    </tr>\n",
       "    <tr>\n",
       "      <th>max</th>\n",
       "      <td>100.000000</td>\n",
       "      <td>2.402003e+06</td>\n",
       "      <td>6.000000e+06</td>\n",
       "      <td>10.000000</td>\n",
       "      <td>200000.000000</td>\n",
       "      <td>12.000000</td>\n",
       "      <td>2024.000000</td>\n",
       "      <td>4.000000</td>\n",
       "      <td>7.000000</td>\n",
       "      <td>18.000000</td>\n",
       "      <td>1.000000</td>\n",
       "    </tr>\n",
       "  </tbody>\n",
       "</table>\n",
       "</div>"
      ],
      "text/plain": [
       "                 AGE  MONTHLY_INCOME  LOAN_AMOUNT_APPLIED  \\\n",
       "count  368494.000000    3.684940e+05         3.684380e+05   \n",
       "mean       35.481783    1.145437e+03         6.862932e+05   \n",
       "std         6.282298    6.276703e+03         3.097598e+05   \n",
       "min        25.000000    0.000000e+00         4.000000e-02   \n",
       "25%        30.000000    9.290000e+02         7.000000e+05   \n",
       "50%        35.000000    1.129000e+03         8.000000e+05   \n",
       "75%        41.000000    1.297809e+03         9.000000e+05   \n",
       "max       100.000000    2.402003e+06         6.000000e+06   \n",
       "\n",
       "       LOAN_TENURE_APPLIED   EXISTING_EMI          MONTH           YEAR  \\\n",
       "count        368438.000000  368438.000000  368494.000000  368494.000000   \n",
       "mean              3.080198      84.272824       6.448783    2023.139492   \n",
       "std               0.705796     398.089344       3.220255       0.831348   \n",
       "min               0.000000       0.000000       1.000000    2022.000000   \n",
       "25%               3.000000       0.000000       4.000000    2022.000000   \n",
       "50%               3.000000       0.000000       6.000000    2023.000000   \n",
       "75%               3.000000     132.000000       9.000000    2024.000000   \n",
       "max              10.000000  200000.000000      12.000000    2024.000000   \n",
       "\n",
       "             QUARTER           VAR4           VAR5      DISBURSED  \n",
       "count  368494.000000  368494.000000  368494.000000  368494.000000  \n",
       "mean        2.484673       3.572791       7.931483       0.402747  \n",
       "std         1.051807       1.939919       6.441635       0.490451  \n",
       "min         1.000000       0.000000       0.000000       0.000000  \n",
       "25%         2.000000       2.000000       0.000000       0.000000  \n",
       "50%         2.000000       3.000000      10.000000       0.000000  \n",
       "75%         3.000000       5.000000      14.000000       1.000000  \n",
       "max         4.000000       7.000000      18.000000       1.000000  "
      ]
     },
     "execution_count": 7,
     "metadata": {},
     "output_type": "execute_result"
    }
   ],
   "source": [
    "df.describe()"
   ]
  },
  {
   "cell_type": "code",
   "execution_count": 8,
   "id": "8ce63c1c",
   "metadata": {
    "scrolled": true
   },
   "outputs": [
    {
     "data": {
      "text/html": [
       "<div>\n",
       "<style scoped>\n",
       "    .dataframe tbody tr th:only-of-type {\n",
       "        vertical-align: middle;\n",
       "    }\n",
       "\n",
       "    .dataframe tbody tr th {\n",
       "        vertical-align: top;\n",
       "    }\n",
       "\n",
       "    .dataframe thead th {\n",
       "        text-align: right;\n",
       "    }\n",
       "</style>\n",
       "<table border=\"1\" class=\"dataframe\">\n",
       "  <thead>\n",
       "    <tr style=\"text-align: right;\">\n",
       "      <th></th>\n",
       "      <th>ID</th>\n",
       "      <th>GENDER</th>\n",
       "      <th>DOB</th>\n",
       "      <th>CITY</th>\n",
       "      <th>STATE</th>\n",
       "      <th>EMPLOYER_NAME</th>\n",
       "      <th>SALARY_ACCOUNT</th>\n",
       "      <th>LEAD_CREATION_DATE</th>\n",
       "      <th>MOBILE_VERIFIED</th>\n",
       "      <th>FILLED_FORM</th>\n",
       "      <th>DEVICE_TYPE</th>\n",
       "      <th>VAR2</th>\n",
       "      <th>SOURCE</th>\n",
       "      <th>VAR1</th>\n",
       "    </tr>\n",
       "  </thead>\n",
       "  <tbody>\n",
       "    <tr>\n",
       "      <th>count</th>\n",
       "      <td>368494</td>\n",
       "      <td>368494</td>\n",
       "      <td>368494</td>\n",
       "      <td>368494</td>\n",
       "      <td>368494</td>\n",
       "      <td>368494</td>\n",
       "      <td>368494</td>\n",
       "      <td>368494</td>\n",
       "      <td>368494</td>\n",
       "      <td>368494</td>\n",
       "      <td>368494</td>\n",
       "      <td>368494</td>\n",
       "      <td>368494</td>\n",
       "      <td>368494</td>\n",
       "    </tr>\n",
       "    <tr>\n",
       "      <th>unique</th>\n",
       "      <td>218989</td>\n",
       "      <td>2</td>\n",
       "      <td>11842</td>\n",
       "      <td>686</td>\n",
       "      <td>51</td>\n",
       "      <td>98</td>\n",
       "      <td>35</td>\n",
       "      <td>1143</td>\n",
       "      <td>2</td>\n",
       "      <td>2</td>\n",
       "      <td>2</td>\n",
       "      <td>7</td>\n",
       "      <td>27</td>\n",
       "      <td>19</td>\n",
       "    </tr>\n",
       "    <tr>\n",
       "      <th>top</th>\n",
       "      <td>ID000536b56</td>\n",
       "      <td>Male</td>\n",
       "      <td>11/11/1989</td>\n",
       "      <td>New York</td>\n",
       "      <td>California</td>\n",
       "      <td>Adobe</td>\n",
       "      <td>Bank of Hope</td>\n",
       "      <td>18/7/1924</td>\n",
       "      <td>Y</td>\n",
       "      <td>N</td>\n",
       "      <td>Web-browser</td>\n",
       "      <td>B</td>\n",
       "      <td>S122</td>\n",
       "      <td>HBXX</td>\n",
       "    </tr>\n",
       "    <tr>\n",
       "      <th>freq</th>\n",
       "      <td>256</td>\n",
       "      <td>252019</td>\n",
       "      <td>347</td>\n",
       "      <td>67851</td>\n",
       "      <td>136864</td>\n",
       "      <td>8078</td>\n",
       "      <td>103677</td>\n",
       "      <td>1181</td>\n",
       "      <td>277185</td>\n",
       "      <td>201456</td>\n",
       "      <td>209790</td>\n",
       "      <td>96128</td>\n",
       "      <td>43890</td>\n",
       "      <td>239944</td>\n",
       "    </tr>\n",
       "  </tbody>\n",
       "</table>\n",
       "</div>"
      ],
      "text/plain": [
       "                 ID  GENDER         DOB      CITY       STATE EMPLOYER_NAME  \\\n",
       "count        368494  368494      368494    368494      368494        368494   \n",
       "unique       218989       2       11842       686          51            98   \n",
       "top     ID000536b56    Male  11/11/1989  New York  California         Adobe   \n",
       "freq            256  252019         347     67851      136864          8078   \n",
       "\n",
       "       SALARY_ACCOUNT LEAD_CREATION_DATE MOBILE_VERIFIED FILLED_FORM  \\\n",
       "count          368494             368494          368494      368494   \n",
       "unique             35               1143               2           2   \n",
       "top      Bank of Hope          18/7/1924               Y           N   \n",
       "freq           103677               1181          277185      201456   \n",
       "\n",
       "        DEVICE_TYPE    VAR2  SOURCE    VAR1  \n",
       "count        368494  368494  368494  368494  \n",
       "unique            2       7      27      19  \n",
       "top     Web-browser       B    S122    HBXX  \n",
       "freq         209790   96128   43890  239944  "
      ]
     },
     "execution_count": 8,
     "metadata": {},
     "output_type": "execute_result"
    }
   ],
   "source": [
    "df.describe(include='O')"
   ]
  },
  {
   "cell_type": "markdown",
   "id": "9ca2b023",
   "metadata": {},
   "source": [
    "#### The dataset includes 25 columns and 3,68,494 entries.\n",
    "\n",
    "#### It consists of:\n",
    "\n",
    "####                   11 numerical features (Disbursed - target variable)\n",
    "####                   14 continuous\n",
    "\n",
    "\n",
    "###### The ID column contains unique values for each sample and cannot be used for prediction.\n",
    "###### The LoggedIn column indicates whether a complete loan application has been submitted and is for problem understanding purposes only. It cannot be used for prediction.\n",
    "###### The meaning of Var1, Var2, Var4, Var5 and Source is unknown"
   ]
  },
  {
   "cell_type": "code",
   "execution_count": 9,
   "id": "f92e55ec",
   "metadata": {
    "scrolled": false
   },
   "outputs": [
    {
     "data": {
      "text/plain": [
       "ID                      0\n",
       "GENDER                  0\n",
       "DOB                     0\n",
       "CITY                    0\n",
       "STATE                   0\n",
       "AGE                     0\n",
       "MONTHLY_INCOME          0\n",
       "EMPLOYER_NAME           0\n",
       "SALARY_ACCOUNT          0\n",
       "LOAN_AMOUNT_APPLIED    56\n",
       "LOAN_TENURE_APPLIED    56\n",
       "EXISTING_EMI           56\n",
       "LEAD_CREATION_DATE      0\n",
       "MONTH                   0\n",
       "YEAR                    0\n",
       "QUARTER                 0\n",
       "MOBILE_VERIFIED         0\n",
       "FILLED_FORM             0\n",
       "DEVICE_TYPE             0\n",
       "VAR2                    0\n",
       "SOURCE                  0\n",
       "VAR4                    0\n",
       "VAR5                    0\n",
       "VAR1                    0\n",
       "DISBURSED               0\n",
       "dtype: int64"
      ]
     },
     "execution_count": 9,
     "metadata": {},
     "output_type": "execute_result"
    }
   ],
   "source": [
    "df.isnull().sum()"
   ]
  },
  {
   "cell_type": "code",
   "execution_count": 15,
   "id": "798350a4",
   "metadata": {},
   "outputs": [
    {
     "data": {
      "text/plain": [
       "(368494, 25)"
      ]
     },
     "execution_count": 15,
     "metadata": {},
     "output_type": "execute_result"
    }
   ],
   "source": [
    "df.shape"
   ]
  },
  {
   "cell_type": "code",
   "execution_count": 17,
   "id": "924898dd",
   "metadata": {},
   "outputs": [],
   "source": [
    "df = df.drop_duplicates(subset='ID', keep=\"last\")"
   ]
  },
  {
   "cell_type": "code",
   "execution_count": 18,
   "id": "99d21806",
   "metadata": {},
   "outputs": [
    {
     "data": {
      "text/plain": [
       "(218989, 25)"
      ]
     },
     "execution_count": 18,
     "metadata": {},
     "output_type": "execute_result"
    }
   ],
   "source": [
    "df.shape"
   ]
  },
  {
   "cell_type": "code",
   "execution_count": 19,
   "id": "2005b247",
   "metadata": {},
   "outputs": [
    {
     "data": {
      "text/plain": [
       "DISBURSED\n",
       "0.0    139953\n",
       "1.0     79036\n",
       "Name: count, dtype: int64"
      ]
     },
     "execution_count": 19,
     "metadata": {},
     "output_type": "execute_result"
    }
   ],
   "source": [
    "df['DISBURSED'].value_counts()"
   ]
  },
  {
   "cell_type": "code",
   "execution_count": 21,
   "id": "d2fd9844",
   "metadata": {},
   "outputs": [
    {
     "data": {
      "image/png": "[encoded data removed]",
      "text/plain": [
       "<Figure size 432x288 with 1 Axes>"
      ]
     },
     "metadata": {
      "needs_background": "light"
     },
     "output_type": "display_data"
    }
   ],
   "source": [
    "sns.barplot(x = 'GENDER',y = 'LOAN_AMOUNT_APPLIED',data = df)\n",
    "plt.show()"
   ]
  },
  {
   "cell_type": "code",
   "execution_count": null,
   "id": "eaced10a",
   "metadata": {},
   "outputs": [],
   "source": []
  },
  {
   "cell_type": "code",
   "execution_count": null,
   "id": "ff1b67e0",
   "metadata": {},
   "outputs": [],
   "source": []
  },
  {
   "cell_type": "code",
   "execution_count": null,
   "id": "c129a6e4",
   "metadata": {},
   "outputs": [],
   "source": []
  },
  {
   "cell_type": "code",
   "execution_count": null,
   "id": "ddf98d65",
   "metadata": {},
   "outputs": [],
   "source": []
  },
  {
   "cell_type": "code",
   "execution_count": null,
   "id": "86cd605e",
   "metadata": {},
   "outputs": [],
   "source": []
  },
  {
   "cell_type": "code",
   "execution_count": null,
   "id": "e8376ce9",
   "metadata": {},
   "outputs": [],
   "source": []
  }
 ],
 "metadata": {
  "kernelspec": {
   "display_name": "Python 3",
   "language": "python",
   "name": "python3"
  },
  "language_info": {
   "codemirror_mode": {
    "name": "ipython",
    "version": 3
   },
   "file_extension": ".py",
   "mimetype": "text/x-python",
   "name": "python",
   "nbconvert_exporter": "python",
   "pygments_lexer": "ipython3",
   "version": "3.8.18"
  }
 },
 "nbformat": 4,
 "nbformat_minor": 5
}
