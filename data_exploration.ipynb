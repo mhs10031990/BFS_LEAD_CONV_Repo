{
 "cells": [
  {
   "cell_type": "markdown",
   "id": "376d0548",
   "metadata": {},
   "source": [
    "# Use LEAD_CONV_Snowpark38_XL Notebook template"
   ]
  },
  {
   "cell_type": "code",
   "execution_count": 1,
   "id": "9510bfbf",
   "metadata": {},
   "outputs": [
    {
     "name": "stderr",
     "output_type": "stream",
     "text": [
      "Matplotlib created a temporary cache directory at /tmp/matplotlib-83wi05gj because the default path (/home/mosaic-ai/.cache/matplotlib) is not a writable directory; it is highly recommended to set the MPLCONFIGDIR environment variable to a writable directory, in particular to speed up the import of Matplotlib and to better support multiprocessing.\n"
     ]
    }
   ],
   "source": [
    "from snowflake.snowpark import Session\n",
    "from snowflake.connector.pandas_tools import write_pandas\n",
    "\n",
    "# Data Science Libs\n",
    "import numpy as np\n",
    "import pandas as pd\n",
    "import matplotlib.pyplot as plt\n",
    "import seaborn as sns\n",
    "\n",
    "# create_temp_table warning suppresion\n",
    "import warnings; warnings.simplefilter('ignore')"
   ]
  },
  {
   "cell_type": "code",
   "execution_count": 2,
   "id": "cdd933a1",
   "metadata": {},
   "outputs": [
    {
     "name": "stdout",
     "output_type": "stream",
     "text": [
      "Connection manager service url initialised to http://fdc-project-manager:80/project-manager\n",
      "If you need to update its value then update the variable CONNECTION_MANAGER_BASE_URL in os env.\n"
     ]
    }
   ],
   "source": [
    "from fosforio import snowflake"
   ]
  },
  {
   "cell_type": "code",
   "execution_count": 3,
   "id": "dc2d9db3",
   "metadata": {},
   "outputs": [
    {
     "name": "stdout",
     "output_type": "stream",
     "text": [
      "User name picked from OS env: manishh.singh@fosfor.com\n",
      "Fetching connections created by manishh.singh@fosfor.com user\n",
      "Connection names fetched ['FDC_SNOWFLAKE', 'FDC_SNOWFLAKE', 'FDC_SNOWFLAKE', 'FDC_Insurance_Snowflake', 'FDC_Banking_FS_Snowflake', 'FDC_Banking_FS_Snowflake', 'FDC_Insurance_Snowflake', 'BFS_LEAD_CONV_CXN'], created by manishh.singh@fosfor.com\n",
      "Exception occurred in getting snowflake connection: 'connectionSources'\n"
     ]
    }
   ],
   "source": [
    "# To get snowflake connection object with a default snowflake connection created by the user, if available.\n",
    "snowflake.get_connection()"
   ]
  },
  {
   "cell_type": "markdown",
   "id": "07ee6490",
   "metadata": {},
   "source": [
    "# TRANSACTIONS data"
   ]
  },
  {
   "cell_type": "code",
   "execution_count": 4,
   "id": "d9466954",
   "metadata": {},
   "outputs": [],
   "source": [
    "# To read a specific dataset published from a snowflake connection\n",
    "df = snowflake.get_dataframe(\"TRANSACTIONS\")"
   ]
  },
  {
   "cell_type": "code",
   "execution_count": 5,
   "id": "06ab253f",
   "metadata": {},
   "outputs": [
    {
     "data": {
      "text/plain": [
       "(227894, 14)"
      ]
     },
     "execution_count": 5,
     "metadata": {},
     "output_type": "execute_result"
    }
   ],
   "source": [
    "df.shape"
   ]
  },
  {
   "cell_type": "code",
   "execution_count": 7,
   "id": "b5dbf96e",
   "metadata": {},
   "outputs": [
    {
     "name": "stdout",
     "output_type": "stream",
     "text": [
      "<class 'pandas.core.frame.DataFrame'>\n",
      "RangeIndex: 227894 entries, 0 to 227893\n",
      "Data columns (total 14 columns):\n",
      " #   Column              Non-Null Count   Dtype  \n",
      "---  ------              --------------   -----  \n",
      " 0   ID                  227894 non-null  object \n",
      " 1   LEAD_CREATION_DATE  227894 non-null  object \n",
      " 2   MONTH               227894 non-null  int8   \n",
      " 3   YEAR                227894 non-null  int16  \n",
      " 4   QUARTER             227894 non-null  int8   \n",
      " 5   MOBILE_VERIFIED     227894 non-null  object \n",
      " 6   FILLED_FORM         227894 non-null  object \n",
      " 7   DEVICE_TYPE         227894 non-null  object \n",
      " 8   VAR2                227894 non-null  object \n",
      " 9   SOURCE              227894 non-null  object \n",
      " 10  VAR4                227894 non-null  float64\n",
      " 11  VAR5                227894 non-null  int8   \n",
      " 12  VAR1                227894 non-null  object \n",
      " 13  DISBURSED           227894 non-null  float64\n",
      "dtypes: float64(2), int16(1), int8(3), object(8)\n",
      "memory usage: 18.5+ MB\n"
     ]
    }
   ],
   "source": [
    "df.info()"
   ]
  },
  {
   "cell_type": "code",
   "execution_count": 8,
   "id": "011f98d8",
   "metadata": {},
   "outputs": [
    {
     "data": {
      "text/html": [
       "<div>\n",
       "<style scoped>\n",
       "    .dataframe tbody tr th:only-of-type {\n",
       "        vertical-align: middle;\n",
       "    }\n",
       "\n",
       "    .dataframe tbody tr th {\n",
       "        vertical-align: top;\n",
       "    }\n",
       "\n",
       "    .dataframe thead th {\n",
       "        text-align: right;\n",
       "    }\n",
       "</style>\n",
       "<table border=\"1\" class=\"dataframe\">\n",
       "  <thead>\n",
       "    <tr style=\"text-align: right;\">\n",
       "      <th></th>\n",
       "      <th>MONTH</th>\n",
       "      <th>YEAR</th>\n",
       "      <th>QUARTER</th>\n",
       "      <th>VAR4</th>\n",
       "      <th>VAR5</th>\n",
       "      <th>DISBURSED</th>\n",
       "    </tr>\n",
       "  </thead>\n",
       "  <tbody>\n",
       "    <tr>\n",
       "      <th>count</th>\n",
       "      <td>227894.000000</td>\n",
       "      <td>227894.000000</td>\n",
       "      <td>227894.000000</td>\n",
       "      <td>227894.000000</td>\n",
       "      <td>227894.000000</td>\n",
       "      <td>227894.000000</td>\n",
       "    </tr>\n",
       "    <tr>\n",
       "      <th>mean</th>\n",
       "      <td>6.393051</td>\n",
       "      <td>2023.225056</td>\n",
       "      <td>2.464949</td>\n",
       "      <td>3.502067</td>\n",
       "      <td>7.792048</td>\n",
       "      <td>0.365025</td>\n",
       "    </tr>\n",
       "    <tr>\n",
       "      <th>std</th>\n",
       "      <td>3.074755</td>\n",
       "      <td>0.830456</td>\n",
       "      <td>1.012503</td>\n",
       "      <td>1.917322</td>\n",
       "      <td>6.433960</td>\n",
       "      <td>0.481438</td>\n",
       "    </tr>\n",
       "    <tr>\n",
       "      <th>min</th>\n",
       "      <td>1.000000</td>\n",
       "      <td>2022.000000</td>\n",
       "      <td>1.000000</td>\n",
       "      <td>0.000000</td>\n",
       "      <td>0.000000</td>\n",
       "      <td>0.000000</td>\n",
       "    </tr>\n",
       "    <tr>\n",
       "      <th>25%</th>\n",
       "      <td>4.000000</td>\n",
       "      <td>2022.000000</td>\n",
       "      <td>2.000000</td>\n",
       "      <td>2.000000</td>\n",
       "      <td>0.000000</td>\n",
       "      <td>0.000000</td>\n",
       "    </tr>\n",
       "    <tr>\n",
       "      <th>50%</th>\n",
       "      <td>6.000000</td>\n",
       "      <td>2023.000000</td>\n",
       "      <td>2.000000</td>\n",
       "      <td>3.000000</td>\n",
       "      <td>10.000000</td>\n",
       "      <td>0.000000</td>\n",
       "    </tr>\n",
       "    <tr>\n",
       "      <th>75%</th>\n",
       "      <td>9.000000</td>\n",
       "      <td>2024.000000</td>\n",
       "      <td>3.000000</td>\n",
       "      <td>5.000000</td>\n",
       "      <td>14.000000</td>\n",
       "      <td>1.000000</td>\n",
       "    </tr>\n",
       "    <tr>\n",
       "      <th>max</th>\n",
       "      <td>12.000000</td>\n",
       "      <td>2024.000000</td>\n",
       "      <td>4.000000</td>\n",
       "      <td>7.000000</td>\n",
       "      <td>18.000000</td>\n",
       "      <td>1.000000</td>\n",
       "    </tr>\n",
       "  </tbody>\n",
       "</table>\n",
       "</div>"
      ],
      "text/plain": [
       "               MONTH           YEAR        QUARTER           VAR4  \\\n",
       "count  227894.000000  227894.000000  227894.000000  227894.000000   \n",
       "mean        6.393051    2023.225056       2.464949       3.502067   \n",
       "std         3.074755       0.830456       1.012503       1.917322   \n",
       "min         1.000000    2022.000000       1.000000       0.000000   \n",
       "25%         4.000000    2022.000000       2.000000       2.000000   \n",
       "50%         6.000000    2023.000000       2.000000       3.000000   \n",
       "75%         9.000000    2024.000000       3.000000       5.000000   \n",
       "max        12.000000    2024.000000       4.000000       7.000000   \n",
       "\n",
       "                VAR5      DISBURSED  \n",
       "count  227894.000000  227894.000000  \n",
       "mean        7.792048       0.365025  \n",
       "std         6.433960       0.481438  \n",
       "min         0.000000       0.000000  \n",
       "25%         0.000000       0.000000  \n",
       "50%        10.000000       0.000000  \n",
       "75%        14.000000       1.000000  \n",
       "max        18.000000       1.000000  "
      ]
     },
     "execution_count": 8,
     "metadata": {},
     "output_type": "execute_result"
    }
   ],
   "source": [
    "df.describe()"
   ]
  },
  {
   "cell_type": "code",
   "execution_count": 9,
   "id": "1b3532d5",
   "metadata": {},
   "outputs": [
    {
     "data": {
      "text/html": [
       "<div>\n",
       "<style scoped>\n",
       "    .dataframe tbody tr th:only-of-type {\n",
       "        vertical-align: middle;\n",
       "    }\n",
       "\n",
       "    .dataframe tbody tr th {\n",
       "        vertical-align: top;\n",
       "    }\n",
       "\n",
       "    .dataframe thead th {\n",
       "        text-align: right;\n",
       "    }\n",
       "</style>\n",
       "<table border=\"1\" class=\"dataframe\">\n",
       "  <thead>\n",
       "    <tr style=\"text-align: right;\">\n",
       "      <th></th>\n",
       "      <th>ID</th>\n",
       "      <th>LEAD_CREATION_DATE</th>\n",
       "      <th>MOBILE_VERIFIED</th>\n",
       "      <th>FILLED_FORM</th>\n",
       "      <th>DEVICE_TYPE</th>\n",
       "      <th>VAR2</th>\n",
       "      <th>SOURCE</th>\n",
       "      <th>VAR1</th>\n",
       "    </tr>\n",
       "  </thead>\n",
       "  <tbody>\n",
       "    <tr>\n",
       "      <th>count</th>\n",
       "      <td>227894</td>\n",
       "      <td>227894</td>\n",
       "      <td>227894</td>\n",
       "      <td>227894</td>\n",
       "      <td>227894</td>\n",
       "      <td>227894</td>\n",
       "      <td>227894</td>\n",
       "      <td>227894</td>\n",
       "    </tr>\n",
       "    <tr>\n",
       "      <th>unique</th>\n",
       "      <td>218989</td>\n",
       "      <td>1143</td>\n",
       "      <td>2</td>\n",
       "      <td>2</td>\n",
       "      <td>2</td>\n",
       "      <td>7</td>\n",
       "      <td>27</td>\n",
       "      <td>19</td>\n",
       "    </tr>\n",
       "    <tr>\n",
       "      <th>top</th>\n",
       "      <td>ID000536b56</td>\n",
       "      <td>18/7/1924</td>\n",
       "      <td>Y</td>\n",
       "      <td>N</td>\n",
       "      <td>Web-browser</td>\n",
       "      <td>B</td>\n",
       "      <td>S122</td>\n",
       "      <td>HBXX</td>\n",
       "    </tr>\n",
       "    <tr>\n",
       "      <th>freq</th>\n",
       "      <td>4</td>\n",
       "      <td>1050</td>\n",
       "      <td>167948</td>\n",
       "      <td>130736</td>\n",
       "      <td>139174</td>\n",
       "      <td>67674</td>\n",
       "      <td>33264</td>\n",
       "      <td>148638</td>\n",
       "    </tr>\n",
       "  </tbody>\n",
       "</table>\n",
       "</div>"
      ],
      "text/plain": [
       "                 ID LEAD_CREATION_DATE MOBILE_VERIFIED FILLED_FORM  \\\n",
       "count        227894             227894          227894      227894   \n",
       "unique       218989               1143               2           2   \n",
       "top     ID000536b56          18/7/1924               Y           N   \n",
       "freq              4               1050          167948      130736   \n",
       "\n",
       "        DEVICE_TYPE    VAR2  SOURCE    VAR1  \n",
       "count        227894  227894  227894  227894  \n",
       "unique            2       7      27      19  \n",
       "top     Web-browser       B    S122    HBXX  \n",
       "freq         139174   67674   33264  148638  "
      ]
     },
     "execution_count": 9,
     "metadata": {},
     "output_type": "execute_result"
    }
   ],
   "source": [
    "df.describe(include='O')"
   ]
  },
  {
   "cell_type": "code",
   "execution_count": 10,
   "id": "7b7d71e0",
   "metadata": {},
   "outputs": [
    {
     "data": {
      "text/plain": [
       "ID                    0\n",
       "LEAD_CREATION_DATE    0\n",
       "MONTH                 0\n",
       "YEAR                  0\n",
       "QUARTER               0\n",
       "MOBILE_VERIFIED       0\n",
       "FILLED_FORM           0\n",
       "DEVICE_TYPE           0\n",
       "VAR2                  0\n",
       "SOURCE                0\n",
       "VAR4                  0\n",
       "VAR5                  0\n",
       "VAR1                  0\n",
       "DISBURSED             0\n",
       "dtype: int64"
      ]
     },
     "execution_count": 10,
     "metadata": {},
     "output_type": "execute_result"
    }
   ],
   "source": [
    "df.isnull().sum()"
   ]
  },
  {
   "cell_type": "markdown",
   "id": "2fd20009",
   "metadata": {},
   "source": [
    "# LOAN_DETAILS data "
   ]
  },
  {
   "cell_type": "code",
   "execution_count": 11,
   "id": "c958ceb4",
   "metadata": {},
   "outputs": [],
   "source": [
    "# To read a specific dataset published from a snowflake connection\n",
    "df = snowflake.get_dataframe(\"LOAN_DETAILS\")"
   ]
  },
  {
   "cell_type": "code",
   "execution_count": 12,
   "id": "0fa61fbc",
   "metadata": {},
   "outputs": [
    {
     "data": {
      "text/plain": [
       "(227894, 4)"
      ]
     },
     "execution_count": 12,
     "metadata": {},
     "output_type": "execute_result"
    }
   ],
   "source": [
    "df.shape"
   ]
  },
  {
   "cell_type": "code",
   "execution_count": null,
   "id": "d397604c",
   "metadata": {},
   "outputs": [],
   "source": []
  },
  {
   "cell_type": "code",
   "execution_count": null,
   "id": "28203001",
   "metadata": {},
   "outputs": [],
   "source": []
  },
  {
   "cell_type": "code",
   "execution_count": null,
   "id": "60ab8f1d",
   "metadata": {},
   "outputs": [],
   "source": []
  },
  {
   "cell_type": "code",
   "execution_count": null,
   "id": "da9b942c",
   "metadata": {},
   "outputs": [],
   "source": []
  },
  {
   "cell_type": "code",
   "execution_count": null,
   "id": "491340a2",
   "metadata": {},
   "outputs": [],
   "source": []
  },
  {
   "cell_type": "code",
   "execution_count": null,
   "id": "1f0814b8",
   "metadata": {},
   "outputs": [],
   "source": []
  },
  {
   "cell_type": "code",
   "execution_count": null,
   "id": "ce8cf4f1",
   "metadata": {},
   "outputs": [],
   "source": []
  }
 ],
 "metadata": {
  "kernelspec": {
   "display_name": "Python 3",
   "language": "python",
   "name": "python3"
  },
  "language_info": {
   "codemirror_mode": {
    "name": "ipython",
    "version": 3
   },
   "file_extension": ".py",
   "mimetype": "text/x-python",
   "name": "python",
   "nbconvert_exporter": "python",
   "pygments_lexer": "ipython3",
   "version": "3.8.18"
  }
 },
 "nbformat": 4,
 "nbformat_minor": 5
}
